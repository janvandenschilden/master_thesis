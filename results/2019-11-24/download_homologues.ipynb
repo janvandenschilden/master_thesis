{
 "cells": [
  {
   "cell_type": "markdown",
   "metadata": {
    "Collapsed": "false",
    "kernel": "SoS"
   },
   "source": [
    "# Download homologues for PPIA and PPIB"
   ]
  },
  {
   "cell_type": "markdown",
   "metadata": {
    "Collapsed": "false",
    "kernel": "SoS"
   },
   "source": [
    "## Retrieve homologues from uniref (Uniprot) "
   ]
  },
  {
   "cell_type": "markdown",
   "metadata": {
    "Collapsed": "false",
    "kernel": "SoS"
   },
   "source": [
    "To retrieve the homologues, I use the Uniprot API's in combination with some BASH scripting.\n",
    "It will retrieve all homologue sequences of PPIA and PPIB of E.coli.\n",
    "However, with minor adaptations ,the code will work with the accession number of any protein available on Uniprot.\n",
    "\n",
    "The general idea behind the program  is this.\n",
    "\n",
    "1. Use the accession number to retrieve the html page of the protein from Uniprot (here we want to retrieve PPIA and PPIB).\n",
    "2. Parse the html to look up the name of the Uniref50 accession number.\n",
    "3. Retrieve with this UniRef50 accession number a list with all the proteins that have at least a sequence identity (or similarity?) of 50 procent.\n",
    "4. Retrieve the sequences of these proteins and write them in a fasta file.\n",
    "5. Filter this Fasta file with the software signalp-5. This software will predict signal peptides. We want to make sure that the PPIA homologues have a signal peptide for sure. We do not want the PPIB homologues to have a signal peptide.\n",
    "6. Cluster the sequences and give the final fasta files with CDHIT to remove redundant sequences. I used different thresholds (0.95, 0.90, 0.85, 0.80. 0.75, 0.70). A threshold of 0.95 means that all the sequences of in the final fasta file have at most a sequence identity of 0.95.\n",
    "\n",
    "The name of the final fasta files with the non redundant sequences look like this:\n",
    "* PPIB_UniRef50_P23869_CDHIT_C-0.95.fasta"
   ]
  },
  {
   "cell_type": "markdown",
   "metadata": {
    "Collapsed": "false",
    "kernel": "SoS"
   },
   "source": [
    "### PPIA"
   ]
  },
  {
   "cell_type": "markdown",
   "metadata": {
    "Collapsed": "false",
    "kernel": "SoS"
   },
   "source": [
    "The accession number on Uniprot of **PPiA** from E.coli is **P0AFL3**."
   ]
  },
  {
   "cell_type": "code",
   "execution_count": 1,
   "metadata": {
    "Collapsed": "false",
    "kernel": "Bash"
   },
   "outputs": [],
   "source": [
    "accession=P0AFL3\n",
    "name=PPIA\n",
    "fileName=${name}_${accession}"
   ]
  },
  {
   "cell_type": "code",
   "execution_count": 2,
   "metadata": {
    "Collapsed": "false",
    "kernel": "Bash"
   },
   "outputs": [],
   "source": [
    "# retrieve a HTML for the accession number\n",
    "accession_html=${fileName}.html\n",
    "if [ ! -f ${accession_html} ]; then\n",
    "    wget -O ${accession_html} https://www.uniprot.org/uniprot/${accession} 2> /dev/null\n",
    "fi"
   ]
  },
  {
   "cell_type": "code",
   "execution_count": 3,
   "metadata": {
    "Collapsed": "false",
    "kernel": "Bash"
   },
   "outputs": [],
   "source": [
    "# List all the UniRef accession codes\n",
    "# Here limited to UniRef50, but can be adapted to also include UniRef90 and UniRef100\n",
    "UniRef=${fileName}_UniRef.list\n",
    "if [ ! -f ${UniRef} ]; then\n",
    "    grep -ohE 'uniref/UniRef50_[A-Z,0-9]{1,20}' ${accession_html} | cut -d '\"' -f 1 | cut -d '/' -f 2 | uniq > ${UniRef} \n",
    "fi"
   ]
  },
  {
   "cell_type": "code",
   "execution_count": 4,
   "metadata": {
    "Collapsed": "false",
    "kernel": "Bash"
   },
   "outputs": [
    {
     "name": "stdout",
     "output_type": "stream",
     "text": [
      "--2019-11-25 09:32:34--  https://www.uniprot.org/uniref/UniRef50_O53021.list\n",
      "Resolving www.uniprot.org (www.uniprot.org)... 193.62.192.81, 128.175.245.185\n",
      "Connecting to www.uniprot.org (www.uniprot.org)|193.62.192.81|:443... connected.\n",
      "HTTP request sent, awaiting response... 200 \n",
      "Length: unspecified [text/plain]\n",
      "Saving to: ‘STDOUT’\n",
      "\n",
      "-                       [ <=>                ]  20.66K  --.-KB/s    in 0.02s   \n",
      "\n",
      "2019-11-25 09:32:34 (953 KB/s) - written to stdout [21154]\n",
      "\n",
      "UniRef50_O53021.list: 1290\n",
      "UniRef50_O53021.fasta: 1290\n",
      "\n",
      "\n"
     ]
    }
   ],
   "source": [
    "# Retrieve a list of all the homologue accession codes for a give UniRef accession code\n",
    "for unirefEntry in $(cat ${UniRef}); do\n",
    "    LIST=${unirefEntry}.list\n",
    "    FASTA=${unirefEntry}.fasta\n",
    "    if [ ! -f ${LIST} ]; then\n",
    "        \n",
    "        wget -O - https://www.uniprot.org/uniref/${LIST} | grep -v '^UPI' > ${LIST}\n",
    "        echo \"\" > ${FASTA}\n",
    "        for protein in $(cat ${LIST}); do\n",
    "            curl https://www.uniprot.org/uniprot/${protein}.fasta >> ${FASTA} 2> /dev/null\n",
    "            # NOTE\n",
    "            ## Most time is spend in waiting for the request of each fasta file\n",
    "            ## It is probably possible to improve this code if I ask for one big fasta file that includes all the accession codes at ones\n",
    "            ## I have to look up how to do that\n",
    "        done\n",
    "        sed -i '1d' ${FASTA}\n",
    "        \n",
    "        # Check if all fasta files were downloaded without fail\n",
    "        # Numbers should be the same\n",
    "        echo ${LIST}: $(cat ${LIST} | wc -l)\n",
    "        echo ${FASTA}: $(grep '>' ${FASTA} | wc -l)\n",
    "        echo \"\"\n",
    "        echo \"\"\n",
    "        \n",
    "        #Give the FASTA and LIST prefix\n",
    "        mv ${FASTA} ${name}_${FASTA}\n",
    "        mv ${LIST} ${name}_${LIST}\n",
    "    fi\n",
    "done"
   ]
  },
  {
   "cell_type": "markdown",
   "metadata": {
    "Collapsed": "false",
    "kernel": "SoS"
   },
   "source": [
    "### PPIB"
   ]
  },
  {
   "cell_type": "markdown",
   "metadata": {
    "Collapsed": "false",
    "kernel": "SoS"
   },
   "source": [
    "The accession number on Uniprot of **PPiB** from E.coli is **P23869**."
   ]
  },
  {
   "cell_type": "code",
   "execution_count": 5,
   "metadata": {
    "Collapsed": "false",
    "kernel": "Bash"
   },
   "outputs": [],
   "source": [
    "accession=P23869\n",
    "name=PPIB\n",
    "fileName=${name}_${accession}"
   ]
  },
  {
   "cell_type": "code",
   "execution_count": 6,
   "metadata": {
    "Collapsed": "false",
    "kernel": "Bash"
   },
   "outputs": [],
   "source": [
    "accession_html=${fileName}.html\n",
    "if [ ! -f ${accession_html} ]; then\n",
    "    wget -O ${accession_html} https://www.uniprot.org/uniprot/${accession} 2> /dev/null\n",
    "fi"
   ]
  },
  {
   "cell_type": "code",
   "execution_count": 7,
   "metadata": {
    "Collapsed": "false",
    "kernel": "Bash"
   },
   "outputs": [],
   "source": [
    "UniRef=${fileName}_UniRef.list\n",
    "if [ ! -f ${UniRef} ]; then\n",
    "    grep -ohE 'uniref/UniRef50_[A-Z,0-9]{1,20}' ${accession_html} | cut -d '\"' -f 1 | cut -d '/' -f 2 | uniq > ${UniRef} \n",
    "fi"
   ]
  },
  {
   "cell_type": "code",
   "execution_count": 8,
   "metadata": {
    "Collapsed": "false",
    "kernel": "Bash"
   },
   "outputs": [
    {
     "name": "stdout",
     "output_type": "stream",
     "text": [
      "--2019-11-25 09:35:46--  https://www.uniprot.org/uniref/UniRef50_P23869.list\n",
      "Resolving www.uniprot.org (www.uniprot.org)... 193.62.192.81, 128.175.245.185\n",
      "Connecting to www.uniprot.org (www.uniprot.org)|193.62.192.81|:443... connected.\n",
      "HTTP request sent, awaiting response... 200 \n",
      "Length: unspecified [text/plain]\n",
      "Saving to: ‘STDOUT’\n",
      "\n",
      "-                       [ <=>                ]   7.88K  --.-KB/s    in 0s      \n",
      "\n",
      "2019-11-25 09:35:46 (26.3 MB/s) - written to stdout [8067]\n",
      "\n",
      "UniRef50_P23869.list: 579\n",
      "UniRef50_P23869.fasta: 579\n",
      "\n",
      "\n"
     ]
    }
   ],
   "source": [
    "for unirefEntry in $(cat ${UniRef}); do\n",
    "    LIST=${unirefEntry}.list\n",
    "    FASTA=${unirefEntry}.fasta\n",
    "    if [ ! -f ${LIST} ]; then\n",
    "        \n",
    "        wget -O - https://www.uniprot.org/uniref/${LIST} | grep -v '^UPI' > ${LIST}\n",
    "        echo \"\" > ${FASTA}\n",
    "        for protein in $(cat ${LIST}); do\n",
    "            curl https://www.uniprot.org/uniprot/${protein}.fasta >> ${FASTA} 2> /dev/null\n",
    "        done\n",
    "        sed -i '1d' ${FASTA}\n",
    "        \n",
    "        # Check if all fasta files were downloaded without fail\n",
    "        # Numbers should be the same\n",
    "        echo ${LIST}: $(cat ${LIST} | wc -l)\n",
    "        echo ${FASTA}: $(grep '>' ${FASTA} | wc -l)\n",
    "        echo \"\"\n",
    "        echo \"\"\n",
    "        \n",
    "        #Give the FASTA and LIST prefix\n",
    "        mv ${FASTA} ${name}_${FASTA}\n",
    "        mv ${LIST} ${name}_${LIST}\n",
    "    fi\n",
    "done"
   ]
  },
  {
   "cell_type": "markdown",
   "metadata": {
    "Collapsed": "false",
    "kernel": "Bash"
   },
   "source": [
    "## Use only protein sequences with signalp-5 evidence"
   ]
  },
  {
   "cell_type": "markdown",
   "metadata": {
    "Collapsed": "false",
    "kernel": "Bash"
   },
   "source": [
    "### PPIA"
   ]
  },
  {
   "cell_type": "code",
   "execution_count": 9,
   "metadata": {
    "Collapsed": "false",
    "kernel": "Bash"
   },
   "outputs": [
    {
     "name": "stdout",
     "output_type": "stream",
     "text": [
      "SignalP-5.0. Starting fasta file reading...\n",
      "Total proteins read: 1290.\n",
      "Organism: gram-.\n",
      "Starting protein prediction...\n",
      "Temporary directory: /tmp/signalp5.178076445\n",
      "Protein prediction done!\n",
      "Generating output files...\n",
      "Completed.\n",
      "1 LIPO(Sec/SPII) 27 OTHER 1262 SP(Sec/SPI)\n",
      "1262 PPIA_UniRef50_O53021_signalp5_filtered.list\n",
      "1262 PPIA_UniRef50_O53021_signalp5_filtered.fasta\n"
     ]
    }
   ],
   "source": [
    "for INPUT in PPIA_UniRef*.fasta; do\n",
    "    # Use Signalp to give a summary about which sequences have a signal peptide \n",
    "    ./bin/signalp -fasta \\\n",
    "    ${INPUT} \\\n",
    "    -org gram- \\\n",
    "    -format short \\\n",
    "    -prefix ${INPUT/.fasta/}\n",
    "    \n",
    "    # Output the different signalpeptides present in the FASTA file (OTHER means no signal peptide)\n",
    "    SIGNALp5=${INPUT/.fasta/_summary.signalp5}\n",
    "    echo $(tail +3 ${SIGNALp5} | cut -d$'\\t' -f 2 | sort | uniq -c)\n",
    "    \n",
    "    # Only select for homologues that have a signal peptide\n",
    "    LIST=${SIGNALp5/_summary.signalp5/_signalp5_filtered.list}\n",
    "    tail +3  ${SIGNALp5} | \\\n",
    "    grep \"SP(Sec/SPI)\" | \\\n",
    "    cut -d '|' -f 2 \\\n",
    "    > ${LIST}\n",
    "    echo $(wc -l ${LIST})\n",
    "    \n",
    "    # Generate with this list a new fasta\n",
    "    FASTA=${LIST/list/fasta}\n",
    "    echo \"\" > ${FASTA}\n",
    "    for protein in $(cat ${LIST}); do\n",
    "        sed -n \"/>.*${protein}/,/>/p\" ${INPUT} \\\n",
    "        | sed '$d' >> ${FASTA}\n",
    "    done\n",
    "    sed -i '1d' ${FASTA}\n",
    "    echo $(grep \">\" ${FASTA} | wc -l) ${FASTA}\n",
    "done"
   ]
  },
  {
   "cell_type": "markdown",
   "metadata": {
    "Collapsed": "false",
    "kernel": "Bash"
   },
   "source": [
    "### PPIB"
   ]
  },
  {
   "cell_type": "code",
   "execution_count": 10,
   "metadata": {
    "Collapsed": "false",
    "kernel": "Bash"
   },
   "outputs": [
    {
     "name": "stdout",
     "output_type": "stream",
     "text": [
      "SignalP-5.0. Starting fasta file reading...\n",
      "Total proteins read: 579.\n",
      "Organism: gram-.\n",
      "Starting protein prediction...\n",
      "Temporary directory: /tmp/signalp5.198055991\n",
      "Protein prediction done!\n",
      "Generating output files...\n",
      "Completed.\n",
      "575 OTHER 4 SP(Sec/SPI)\n",
      "575 PPIB_UniRef50_P23869_signalp5_filtered.list\n",
      "575 PPIB_UniRef50_P23869_signalp5_filtered.fasta\n"
     ]
    }
   ],
   "source": [
    "for INPUT in PPIB_UniRef*.fasta; do\n",
    "    ./bin/signalp -fasta \\\n",
    "    ${INPUT} \\\n",
    "    -org gram- \\\n",
    "    -format short \\\n",
    "    -prefix ${INPUT/.fasta/}\n",
    "    \n",
    "    SIGNALp5=${INPUT/.fasta/_summary.signalp5}\n",
    "    echo $(tail +3 ${SIGNALp5} | cut -d$'\\t' -f 2 | sort | uniq -c)\n",
    "    \n",
    "    # Only select for homologues that have NO signal peptide\n",
    "    LIST=${SIGNALp5/_summary.signalp5/_signalp5_filtered.list}\n",
    "    tail +3  ${SIGNALp5} | \\\n",
    "    grep \"OTHER\" | \\\n",
    "    cut -d '|' -f 2 \\\n",
    "    > ${LIST}\n",
    "    echo $(wc -l ${LIST})\n",
    "    \n",
    "    FASTA=${LIST/list/fasta}\n",
    "    echo \"\" > ${FASTA}\n",
    "    for protein in $(cat ${LIST}); do\n",
    "        sed -n \"/>.*${protein}/,/>/p\" ${INPUT} \\\n",
    "        | sed '$d' >> ${FASTA}\n",
    "    done\n",
    "    sed -i '1d' ${FASTA}\n",
    "    echo $(grep \">\" ${FASTA} | wc -l) ${FASTA}\n",
    "done"
   ]
  },
  {
   "cell_type": "markdown",
   "metadata": {
    "Collapsed": "false",
    "kernel": "Bash"
   },
   "source": [
    "## Use CDHIT to remove redundant sequences"
   ]
  },
  {
   "cell_type": "markdown",
   "metadata": {
    "Collapsed": "false",
    "kernel": "Bash"
   },
   "source": [
    "### PPIA"
   ]
  },
  {
   "cell_type": "code",
   "execution_count": 11,
   "metadata": {
    "Collapsed": "false",
    "kernel": "Bash"
   },
   "outputs": [
    {
     "name": "stdout",
     "output_type": "stream",
     "text": [
      "713 PPIA_UniRef50_O53021_CDHIT_C-0.95.fasta\n",
      "389 PPIA_UniRef50_O53021_CDHIT_C-0.90.fasta\n",
      "225 PPIA_UniRef50_O53021_CDHIT_C-0.85.fasta\n",
      "154 PPIA_UniRef50_O53021_CDHIT_C-0.80.fasta\n",
      "110 PPIA_UniRef50_O53021_CDHIT_C-0.75.fasta\n",
      "65 PPIA_UniRef50_O53021_CDHIT_C-0.70.fasta\n"
     ]
    }
   ],
   "source": [
    "# Using CDHIT, cluster the sequences with different thresholds\n",
    "for INPUT in PPIA_UniRef*_signalp5_filtered.fasta; do\n",
    "    for c in 0.95 0.90 0.85 0.80 0.75 0.70; do\n",
    "        OUTPUT=${INPUT/signalp5_filtered/CDHIT_C-${c}}\n",
    "        ./cdhit/cd-hit \\\n",
    "        -i ${INPUT}\\\n",
    "        -o ${OUTPUT} \\\n",
    "        -c ${c} \\\n",
    "        -n 5 \\\n",
    "        -M 4000 \\\n",
    "        -T 2 \\\n",
    "        >/dev/null 2>/dev/null\n",
    "        \n",
    "        echo $(wc -l ${OUTPUT})\n",
    "    done\n",
    "done"
   ]
  },
  {
   "cell_type": "markdown",
   "metadata": {
    "Collapsed": "false",
    "kernel": "Bash"
   },
   "source": [
    "### PPIB"
   ]
  },
  {
   "cell_type": "code",
   "execution_count": 12,
   "metadata": {
    "Collapsed": "false",
    "kernel": "Bash"
   },
   "outputs": [
    {
     "name": "stdout",
     "output_type": "stream",
     "text": [
      "366 PPIB_UniRef50_P23869_CDHIT_C-0.95.fasta\n",
      "255 PPIB_UniRef50_P23869_CDHIT_C-0.90.fasta\n",
      "234 PPIB_UniRef50_P23869_CDHIT_C-0.85.fasta\n",
      "187 PPIB_UniRef50_P23869_CDHIT_C-0.80.fasta\n",
      "148 PPIB_UniRef50_P23869_CDHIT_C-0.75.fasta\n",
      "112 PPIB_UniRef50_P23869_CDHIT_C-0.70.fasta\n"
     ]
    }
   ],
   "source": [
    "for INPUT in PPIB_UniRef*_signalp5_filtered.fasta; do\n",
    "    for c in 0.95 0.90 0.85 0.80 0.75 0.70; do\n",
    "        OUTPUT=${INPUT/signalp5_filtered/CDHIT_C-${c}}\n",
    "        ./cdhit/cd-hit \\\n",
    "        -i ${INPUT}\\\n",
    "        -o ${OUTPUT} \\\n",
    "        -c ${c} \\\n",
    "        -n 5 \\\n",
    "        -M 4000 \\\n",
    "        -T 2 \\\n",
    "        >/dev/null 2>/dev/null\n",
    "        \n",
    "        echo $(wc -l ${OUTPUT})\n",
    "    done\n",
    "done"
   ]
  },
  {
   "cell_type": "code",
   "execution_count": null,
   "metadata": {
    "Collapsed": "false",
    "kernel": "Bash"
   },
   "outputs": [],
   "source": []
  }
 ],
 "metadata": {
  "kernelspec": {
   "display_name": "SoS",
   "language": "sos",
   "name": "sos"
  },
  "language_info": {
   "codemirror_mode": "sos",
   "file_extension": ".sos",
   "mimetype": "text/x-sos",
   "name": "sos",
   "nbconvert_exporter": "sos_notebook.converter.SoS_Exporter",
   "pygments_lexer": "sos"
  },
  "sos": {
   "kernels": [
    [
     "Bash",
     "bash",
     "Bash",
     "#E6EEFF",
     "shell"
    ]
   ],
   "version": "0.20.8"
  }
 },
 "nbformat": 4,
 "nbformat_minor": 4
}
