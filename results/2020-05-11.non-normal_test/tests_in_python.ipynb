{
 "cells": [
  {
   "cell_type": "code",
   "execution_count": 3,
   "metadata": {},
   "outputs": [],
   "source": [
    "from scipy import stats\n",
    "import numpy as np\n",
    "import pandas as pd\n",
    "from sklearn import datasets"
   ]
  },
  {
   "cell_type": "markdown",
   "metadata": {},
   "source": [
    "## Wilcoxon Ranksum test"
   ]
  },
  {
   "cell_type": "code",
   "execution_count": 6,
   "metadata": {},
   "outputs": [
    {
     "name": "stdout",
     "output_type": "stream",
     "text": [
      "Help on function ranksums in module scipy.stats.stats:\n",
      "\n",
      "ranksums(x, y)\n",
      "    Compute the Wilcoxon rank-sum statistic for two samples.\n",
      "    \n",
      "    The Wilcoxon rank-sum test tests the null hypothesis that two sets\n",
      "    of measurements are drawn from the same distribution.  The alternative\n",
      "    hypothesis is that values in one sample are more likely to be\n",
      "    larger than the values in the other sample.\n",
      "    \n",
      "    This test should be used to compare two samples from continuous\n",
      "    distributions.  It does not handle ties between measurements\n",
      "    in x and y.  For tie-handling and an optional continuity correction\n",
      "    see `scipy.stats.mannwhitneyu`.\n",
      "    \n",
      "    Parameters\n",
      "    ----------\n",
      "    x,y : array_like\n",
      "        The data from the two samples.\n",
      "    \n",
      "    Returns\n",
      "    -------\n",
      "    statistic : float\n",
      "        The test statistic under the large-sample approximation that the\n",
      "        rank sum statistic is normally distributed.\n",
      "    pvalue : float\n",
      "        The two-sided p-value of the test.\n",
      "    \n",
      "    References\n",
      "    ----------\n",
      "    .. [1] https://en.wikipedia.org/wiki/Wilcoxon_rank-sum_test\n",
      "\n"
     ]
    }
   ],
   "source": [
    "help(stats.ranksums)"
   ]
  },
  {
   "cell_type": "code",
   "execution_count": 5,
   "metadata": {},
   "outputs": [
    {
     "data": {
      "text/plain": [
       "(1.7155883082031198, 0.08623741992548661)"
      ]
     },
     "execution_count": 5,
     "metadata": {},
     "output_type": "execute_result"
    }
   ],
   "source": [
    "# These sets should be noted to come from the same distributions\n",
    "set1 = np.random.rand(int(1e1))\n",
    "set2 = np.random.rand(int(1e2))\n",
    "statistic, pvalue = stats.ranksums(set1,set2)\n",
    "statistic,pvalue"
   ]
  },
  {
   "cell_type": "code",
   "execution_count": 6,
   "metadata": {},
   "outputs": [
    {
     "data": {
      "text/plain": [
       "RanksumsResult(statistic=-7.944753339950158, pvalue=1.9457757411101855e-15)"
      ]
     },
     "execution_count": 6,
     "metadata": {},
     "output_type": "execute_result"
    }
   ],
   "source": [
    "# These sets should be noted to come different distributions\n",
    "set1 = np.random.rand(int(1e5))\n",
    "set2 = np.random.rand(int(1e5))+0.01\n",
    "stats.ranksums(set1,set2)"
   ]
  },
  {
   "cell_type": "code",
   "execution_count": 7,
   "metadata": {},
   "outputs": [
    {
     "data": {
      "text/plain": [
       "RanksumsResult(statistic=-17.091587387393453, pvalue=1.7144274813710863e-65)"
      ]
     },
     "execution_count": 7,
     "metadata": {},
     "output_type": "execute_result"
    }
   ],
   "source": [
    "set1 = np.random.rand(int(1e5))\n",
    "set2 = np.random.rand(int(1e5))+0.02\n",
    "stats.ranksums(set1,set2)"
   ]
  },
  {
   "cell_type": "code",
   "execution_count": 8,
   "metadata": {},
   "outputs": [
    {
     "data": {
      "text/plain": [
       "RanksumsResult(statistic=-23.80851078682522, pvalue=2.726320176282423e-125)"
      ]
     },
     "execution_count": 8,
     "metadata": {},
     "output_type": "execute_result"
    }
   ],
   "source": [
    "set1 = np.random.rand(int(1e5))\n",
    "set2 = np.random.rand(int(1e5))+0.03\n",
    "stats.ranksums(set1,set2)"
   ]
  },
  {
   "cell_type": "code",
   "execution_count": null,
   "metadata": {},
   "outputs": [],
   "source": []
  }
 ],
 "metadata": {
  "kernelspec": {
   "display_name": "Python 3",
   "language": "python",
   "name": "python3"
  },
  "language_info": {
   "codemirror_mode": {
    "name": "ipython",
    "version": 3
   },
   "file_extension": ".py",
   "mimetype": "text/x-python",
   "name": "python",
   "nbconvert_exporter": "python",
   "pygments_lexer": "ipython3",
   "version": "3.6.9"
  }
 },
 "nbformat": 4,
 "nbformat_minor": 4
}
