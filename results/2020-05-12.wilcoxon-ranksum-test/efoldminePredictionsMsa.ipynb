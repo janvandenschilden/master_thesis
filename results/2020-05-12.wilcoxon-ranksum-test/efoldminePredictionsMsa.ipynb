{
 "cells": [
  {
   "cell_type": "code",
   "execution_count": 1,
   "metadata": {},
   "outputs": [
    {
     "ename": "IOError",
     "evalue": "[Errno 2] No such file or directory: '-f'",
     "output_type": "error",
     "traceback": [
      "\u001b[0;31m---------------------------------------------------------------------------\u001b[0m",
      "\u001b[0;31mIOError\u001b[0m                                   Traceback (most recent call last)",
      "\u001b[0;32m<ipython-input-1-a33315f28bd6>\u001b[0m in \u001b[0;36m<module>\u001b[0;34m()\u001b[0m\n\u001b[1;32m     56\u001b[0m     \u001b[0mSCRIPT\u001b[0m\u001b[0;34m,\u001b[0m \u001b[0mINPUT_FILE\u001b[0m\u001b[0;34m,\u001b[0m \u001b[0mOUTPUT_FILE\u001b[0m\u001b[0;34m=\u001b[0m \u001b[0msys\u001b[0m\u001b[0;34m.\u001b[0m\u001b[0margv\u001b[0m\u001b[0;34m\u001b[0m\u001b[0m\n\u001b[1;32m     57\u001b[0m     \u001b[0mMSA_FILE\u001b[0m\u001b[0;34m=\u001b[0m\u001b[0mINPUT_FILE\u001b[0m\u001b[0;34m\u001b[0m\u001b[0m\n\u001b[0;32m---> 58\u001b[0;31m     \u001b[0mMSA_DIC\u001b[0m\u001b[0;34m=\u001b[0m\u001b[0mreadFasta\u001b[0m\u001b[0;34m(\u001b[0m\u001b[0mMSA_FILE\u001b[0m\u001b[0;34m)\u001b[0m\u001b[0;34m\u001b[0m\u001b[0m\n\u001b[0m\u001b[1;32m     59\u001b[0m     \u001b[0mMSA_PREDICTIONS\u001b[0m\u001b[0;34m=\u001b[0m \u001b[0mgetPredictions\u001b[0m\u001b[0;34m(\u001b[0m\u001b[0mMSA_DIC\u001b[0m\u001b[0;34m)\u001b[0m\u001b[0;34m\u001b[0m\u001b[0m\n\u001b[1;32m     60\u001b[0m     \u001b[0mMSA_MAPPED_PREDICTIONS\u001b[0m\u001b[0;34m=\u001b[0m\u001b[0mmapPredictions\u001b[0m\u001b[0;34m(\u001b[0m\u001b[0mMSA_DIC\u001b[0m\u001b[0;34m,\u001b[0m\u001b[0mMSA_PREDICTIONS\u001b[0m\u001b[0;34m)\u001b[0m\u001b[0;34m\u001b[0m\u001b[0m\n",
      "\u001b[0;32m<ipython-input-1-a33315f28bd6>\u001b[0m in \u001b[0;36mreadFasta\u001b[0;34m(file)\u001b[0m\n\u001b[1;32m      3\u001b[0m \u001b[0;34m\u001b[0m\u001b[0m\n\u001b[1;32m      4\u001b[0m \u001b[0;32mdef\u001b[0m \u001b[0mreadFasta\u001b[0m\u001b[0;34m(\u001b[0m\u001b[0mfile\u001b[0m\u001b[0;34m)\u001b[0m\u001b[0;34m:\u001b[0m\u001b[0;34m\u001b[0m\u001b[0m\n\u001b[0;32m----> 5\u001b[0;31m     \u001b[0mf\u001b[0m\u001b[0;34m=\u001b[0m\u001b[0mopen\u001b[0m\u001b[0;34m(\u001b[0m\u001b[0mfile\u001b[0m\u001b[0;34m)\u001b[0m\u001b[0;34m\u001b[0m\u001b[0m\n\u001b[0m\u001b[1;32m      6\u001b[0m     \u001b[0mfastaDic\u001b[0m\u001b[0;34m=\u001b[0m\u001b[0mdict\u001b[0m\u001b[0;34m(\u001b[0m\u001b[0;34m)\u001b[0m\u001b[0;34m\u001b[0m\u001b[0m\n\u001b[1;32m      7\u001b[0m     \u001b[0;32mfor\u001b[0m \u001b[0mline\u001b[0m \u001b[0;32min\u001b[0m \u001b[0mf\u001b[0m\u001b[0;34m:\u001b[0m\u001b[0;34m\u001b[0m\u001b[0m\n",
      "\u001b[0;31mIOError\u001b[0m: [Errno 2] No such file or directory: '-f'"
     ]
    }
   ],
   "source": [
    "from b2bTools.singleSeq.EFoldMine.Predictor import EFoldMine\n",
    "import sys\n",
    "\n",
    "def readFasta(file):\n",
    "    f=open(file)\n",
    "    fastaDic=dict()\n",
    "    for line in f:\n",
    "        if line.startswith(\">\"):\n",
    "            Id=line.strip().replace(\">\",\"\")\n",
    "            fastaDic[Id]=\"\"\n",
    "        else:\n",
    "            fastaDic[Id]+=line.strip()\n",
    "    return fastaDic\n",
    "\n",
    "def getPredictions(msaDic):\n",
    "    efoldMineInput = [(Id,seq.replace(\"-\",\"\")) for Id,seq in msaDic.items()]\n",
    "    efm = EFoldMine()\n",
    "    efm.predictSeqs(efoldMineInput)\n",
    "    return efm.allPredictions\n",
    "\n",
    "def mapPredictions(msaDic,predictionDic):\n",
    "    Ids = msaDic.keys()\n",
    "    mappedPredictions=dict()\n",
    "    for Id in Ids:\n",
    "        mappedPredictions[Id]=dict()\n",
    "        seq=msaDic[Id]\n",
    "        seqLength=len(seq)\n",
    "        mappedPredictions[Id][\"sequence\"]=seq\n",
    "        for predictionKey,predictionSequence in predictionDic[Id].items():\n",
    "            mappedPredictions[Id][predictionKey]=list()\n",
    "            posInPrediction=0\n",
    "            for msaRes in seq:\n",
    "                if msaRes==\"-\":\n",
    "                    mappedPredictions[Id][predictionKey].append(\"nan\")\n",
    "                else:\n",
    "                    predictionResidue=predictionSequence[posInPrediction][0]\n",
    "                    predictionValue=predictionSequence[posInPrediction][1]\n",
    "                    if msaRes==predictionResidue:\n",
    "                        mappedPredictions[Id][predictionKey].append(predictionValue)\n",
    "                        posInPrediction+=1\n",
    "                    else:\n",
    "                        print(\"something went wrong\")\n",
    "    return mappedPredictions\n",
    "\n",
    "def mappedPredictions2File(mappedPredictions, fileName):\n",
    "    f = open(fileName,\"w\")\n",
    "    for Id in mappedPredictions.keys():\n",
    "        f.write(\">{}\\n\".format(Id))\n",
    "        for feature, sequence in mappedPredictions[Id].items():\n",
    "            sequenceList=map(str,list(sequence))\n",
    "            sequenceString=\" \".join(sequenceList)\n",
    "            f.write(\"{}\\t{}\\n\".format(feature,sequenceString))\n",
    "    f.close()\n",
    "\n",
    "if __name__ == \"__main__\":\n",
    "    SCRIPT, INPUT_FILE, OUTPUT_FILE= sys.argv\n",
    "    MSA_FILE=INPUT_FILE\n",
    "    MSA_DIC=readFasta(MSA_FILE)\n",
    "    MSA_PREDICTIONS= getPredictions(MSA_DIC)\n",
    "    MSA_MAPPED_PREDICTIONS=mapPredictions(MSA_DIC,MSA_PREDICTIONS)\n",
    "    mappedPredictions2File(MSA_MAPPED_PREDICTIONS,OUTPUT_FILE)"
   ]
  },
  {
   "cell_type": "code",
   "execution_count": null,
   "metadata": {},
   "outputs": [],
   "source": []
  },
  {
   "cell_type": "code",
   "execution_count": null,
   "metadata": {},
   "outputs": [],
   "source": []
  },
  {
   "cell_type": "code",
   "execution_count": null,
   "metadata": {},
   "outputs": [],
   "source": []
  },
  {
   "cell_type": "code",
   "execution_count": null,
   "metadata": {},
   "outputs": [],
   "source": []
  }
 ],
 "metadata": {
  "kernelspec": {
   "display_name": "Python 2",
   "language": "python",
   "name": "python2"
  },
  "language_info": {
   "codemirror_mode": {
    "name": "ipython",
    "version": 2
   },
   "file_extension": ".py",
   "mimetype": "text/x-python",
   "name": "python",
   "nbconvert_exporter": "python",
   "pygments_lexer": "ipython2",
   "version": "2.7.17"
  }
 },
 "nbformat": 4,
 "nbformat_minor": 4
}
