{
 "cells": [
  {
   "cell_type": "code",
   "execution_count": 1,
   "metadata": {},
   "outputs": [],
   "source": [
    "from tqdm import tqdm\n",
    "import pandas as pd\n",
    "import numpy as np\n",
    "import urllib.parse\n",
    "import urllib.request\n",
    "from time import sleep\n",
    "import os\n",
    "import subprocess\n",
    "import time\n",
    "from scipy import stats"
   ]
  },
  {
   "cell_type": "code",
   "execution_count": 2,
   "metadata": {},
   "outputs": [],
   "source": [
    "def uniprotMapping(query, From=\"ACC\",To=\"ACC\",Format=\"fasta\",Columns=\"\"):\n",
    "    url = 'https://www.uniprot.org/uploadlists/'\n",
    "    params={\n",
    "        \"query\":query,\n",
    "        \"from\":From,\n",
    "        \"to\":To,\n",
    "        \"format\":Format,\n",
    "        \"columns\":Columns,\n",
    "    }\n",
    "    data = urllib.parse.urlencode(params)\n",
    "    data = data.encode('utf-8')\n",
    "    req = urllib.request.Request(url, data)\n",
    "    with urllib.request.urlopen(req) as f:\n",
    "        response = str(f.read(),encoding=\"utf-8\")\n",
    "    return response\n",
    "\n",
    "def extractIdFasta(fastaStr,Id):\n",
    "    newFastaList=[\"\",\"\"]\n",
    "    for line in (fastaStr+\" \").split(\"\\n\"):\n",
    "        if line.startswith(\">\"):\n",
    "            if line.replace(\">\",\"\")==Id:\n",
    "                i=0\n",
    "            else:\n",
    "                i=1\n",
    "        newFastaList[i]+=line+\"\\n\"\n",
    "    return newFastaList[0]\n",
    "\n",
    "def clustalo(inputFasta):\n",
    "    tempInputFile=\"{}.fasta\".format(time.time())\n",
    "    with open(tempInputFile,\"w\") as f:\n",
    "        f.write(inputFasta)\n",
    "    tempOutputFile=\"{}.fasta\".format(time.time())\n",
    "    \n",
    "    command = \"clustalo -i {} -o {}\".format(tempInputFile,tempOutputFile)\n",
    "    cmd = subprocess.Popen(command,\n",
    "                           shell=True,\n",
    "                           stdin=subprocess.PIPE,\n",
    "                          stdout=subprocess.PIPE,\n",
    "                          stderr=subprocess.STDOUT)\n",
    "    cmd.communicate()\n",
    "    \n",
    "    with open(tempOutputFile) as f:\n",
    "        output = f.read()\n",
    "    \n",
    "    for file in [tempInputFile,tempOutputFile]:\n",
    "        os.remove(file)\n",
    "    \n",
    "    return output\n",
    "    \n",
    "\n",
    "def cdhit(inputFasta, identity=0.9):\n",
    "    tempInputFile=\"{}.fasta\".format(time.time())\n",
    "    with open(tempInputFile,\"w\") as f:\n",
    "        f.write(inputFasta)\n",
    "    tempOutputFile=\"{}.fasta\".format(time.time())\n",
    "    tempOutputFile2=tempOutputFile+\".clstr\"\n",
    "    \n",
    "    command = \"cd-hit -i {} -o {} -c {}\".format(tempInputFile,tempOutputFile,identity)\n",
    "    cmd = subprocess.Popen(command,\n",
    "                           shell=True,\n",
    "                           stdin=subprocess.PIPE,\n",
    "                          stdout=subprocess.PIPE,\n",
    "                          stderr=subprocess.STDOUT)\n",
    "    cmd.communicate()\n",
    "    \n",
    "    with open(tempOutputFile) as f:\n",
    "        output = f.read()\n",
    "        \n",
    "    for file in [tempInputFile,tempOutputFile,tempOutputFile2]:\n",
    "        os.remove(file)\n",
    "        \n",
    "    return output\n",
    "\n",
    "def simplifyIds(fastaStr):\n",
    "    newFastaStr=\"\"\n",
    "    for line in fastaStr.split(\"\\n\"):\n",
    "        if line.startswith(\">\"):\n",
    "            newFastaStr+=\">{}\\n\".format(line.split(\"|\")[1])\n",
    "        else:\n",
    "            newFastaStr+=line+\"\\n\"\n",
    "    return newFastaStr\n",
    "\n",
    "def cutSpFromMsa(msaStr,signalPeptideLength, Id):\n",
    "    def fastaStr2Lol(fastaStr):\n",
    "        lol=[entry.replace(\"\\n\",\"toSplit\",1).replace(\"\\n\",\"\").split(\"toSplit\")\n",
    "            for entry\n",
    "            in fastaStr[1:].split(\">\")]\n",
    "        return [(entry.split(\"|\")[:2][-1],seq) for entry,seq in lol]\n",
    "    \n",
    "    def lol2dic(lol):\n",
    "        return {key:value for key,value in lol}\n",
    "\n",
    "    def lol2FastaStr(lol):\n",
    "        return \">\"+\"\\n>\".join(map(\"\\n\".join,lol))+\"\\n\"\n",
    "\n",
    "    def dic2FastaStr(dic):\n",
    "        fastaStr=\"\"\n",
    "        for key,value in dic.items():\n",
    "            fastaStr+=\">{}\\n{}\\n\".format(key,value)\n",
    "        return fastaStr\n",
    "\n",
    "    def findRelPosInMsa(msaDic, Id, pos):\n",
    "        seq = msaDic[Id]\n",
    "        msaPos=0\n",
    "        i=0\n",
    "        while i<=pos:\n",
    "            msaPos+=1\n",
    "            if seq[msaPos]!=\"-\":\n",
    "                i+=1\n",
    "        return msaPos\n",
    "\n",
    "    def cutFromMsa(msaDic, newStart):\n",
    "        return {key:value[newStart:] for key,value in msaDic.items()}\n",
    "    \n",
    "    lol = fastaStr2Lol(msaStr)\n",
    "    dic = lol2dic(lol)\n",
    "    relPos = findRelPosInMsa(dic,Id, signalPeptideLength)\n",
    "    newDic=cutFromMsa(dic,relPos)\n",
    "    return dic2FastaStr(newDic)\n",
    "\n",
    "def getMsaPeridictions(msaString):\n",
    "    tempInputFile=\"{}.MSA.fasta\".format(time.time())\n",
    "    with open(tempInputFile,\"w\") as f:\n",
    "        f.write(msaString)\n",
    "    tempOutputFile=\"{}.MSA.pred\".format(time.time())\n",
    "    \n",
    "    command = \"python2 efoldminePredictionsMsa.py {} {}\".format(tempInputFile,tempOutputFile)\n",
    "    cmd = subprocess.Popen(command,\n",
    "                           shell=True,\n",
    "                           stdin=subprocess.PIPE,\n",
    "                          stdout=subprocess.PIPE,\n",
    "                          stderr=subprocess.STDOUT)\n",
    "    cmd.communicate()\n",
    "    \n",
    "    with open(tempOutputFile) as f:\n",
    "        msaPredictionString= f.read()\n",
    "    \n",
    "    for file in [tempInputFile, tempOutputFile]:\n",
    "        os.remove(file)\n",
    "        \n",
    "    return msaPredictionString\n",
    "\n",
    "def msaPredictions2Dic(msaPredictionString):\n",
    "    msaPredictionDic=dict()\n",
    "    for line in msaPredictionString.split(\"\\n\"):\n",
    "        if line.startswith(\">\"):\n",
    "            Id=line.replace(\">\",\"\")\n",
    "            msaPredictionDic[Id]=dict()\n",
    "        else:\n",
    "            if line:\n",
    "                feature, featureSequence = line.split(\"\\t\")\n",
    "                if feature==\"sequence\":\n",
    "                    msaPredictionDic[Id][feature]=featureSequence.split(\" \")\n",
    "                else:\n",
    "                    msaPredictionDic[Id][feature]=[float(elm) \n",
    "                                                   for elm \n",
    "                                                   in featureSequence.split(\" \")]\n",
    "    return msaPredictionDic\n",
    "\n",
    "def msaPredictionsDic2Arrays(msaPredictionDic):\n",
    "    Ids =  sorted(msaPredictionDic.keys())\n",
    "    features = sorted(msaPredictionDic[Ids[0]].keys())\n",
    "    cols = len(msaPredictionDic[Ids[0]][features[0]])\n",
    "    rows = len(Ids)\n",
    "    \n",
    "    dicOfArrays=dict()\n",
    "    for feature in features:\n",
    "        if feature==\"sequence\":\n",
    "            dicOfArrays[feature]=np.zeros((rows,cols),dtype=str)\n",
    "            dicOfArrays[feature][:,:]=\"-\"\n",
    "        else:\n",
    "            dicOfArrays[feature]=np.zeros((rows,cols),dtype=float)\n",
    "            dicOfArrays[feature][:,:]=np.nan\n",
    "            \n",
    "    for i,Id in enumerate(Ids):\n",
    "        for feature in features:\n",
    "            dicOfArrays[feature][i,:]=msaPredictionDic[Id][feature]\n",
    "    return dicOfArrays\n",
    "\n",
    "def allignTwins(CYTO_ID, PERI_ID, SP_END):\n",
    "    print()\n",
    "    print(\"Compare Twins:\", CYTO_ID,\"and\",PERI_ID)\n",
    "    print(\"Retrieve Cytoplasmic homologues\")\n",
    "    CYTO_UNIREF50 = uniprotMapping(CYTO_ID, From=\"ACC\", To=\"NF50\", Format=\"list\")\n",
    "    CYTO_SEQS = uniprotMapping(CYTO_UNIREF50, From=\"NF50\", To=\"ACC\", Format=\"fasta\")\n",
    "    CYTO_SEQS = simplifyIds(CYTO_SEQS)\n",
    "    CYTO_SEQS_MAIN = extractIdFasta(CYTO_SEQS,CYTO_ID)\n",
    "    CYTO_IDS=[LINE.replace(\">\",\"\") for LINE in CYTO_SEQS.split(\"\\n\") if LINE.startswith(\">\")]\n",
    "    print(\"Retrieve Periplasmic homologues\")\n",
    "    PERI_UNIREF50 = uniprotMapping(PERI_ID, From=\"ACC\", To=\"NF50\", Format=\"list\")\n",
    "    PERI_SEQS = uniprotMapping(PERI_UNIREF50, From=\"NF50\", To=\"ACC\", Format=\"fasta\")\n",
    "    PERI_SEQS = simplifyIds(PERI_SEQS)\n",
    "    PERI_SEQS_MAIN = extractIdFasta(PERI_SEQS,PERI_ID)\n",
    "    PERI_IDS=[LINE.replace(\">\",\"\") for LINE in PERI_SEQS.split(\"\\n\") if LINE.startswith(\">\")]\n",
    "    print(\"reduce Cytoplasmic redundance with cdhit\")\n",
    "    CYTO_MAIN_PLUS_CDHIT=CYTO_SEQS_MAIN+cdhit(CYTO_SEQS)\n",
    "    print(\"reduce Periplasmic redundance with cdhit\")\n",
    "    PERI_MAIN_PLUS_CDHIT=PERI_SEQS_MAIN+cdhit(PERI_SEQS)\n",
    "    print(\"generate Cytoplasmic MSA with clustalo\")\n",
    "    CYTO_MSA=clustalo(CYTO_MAIN_PLUS_CDHIT)\n",
    "    print(\"generate Periplasmic MSA with clustalo\")\n",
    "    PERI_MSA=clustalo(PERI_MAIN_PLUS_CDHIT)\n",
    "    PERI_MSA_CUT=cutSpFromMsa(PERI_MSA,SP_END, PERI_ID)\n",
    "    print(\"Allign cytoplasmic and periplasmic proteins to each other with clustalo\")\n",
    "    ALL_MSA=clustalo(PERI_MSA_CUT+CYTO_MSA)\n",
    "    ALL_MSA_CUT=cutSpFromMsa(ALL_MSA,0,PERI_ID)\n",
    "    print(\"Generate predictions\")\n",
    "    ALL_MSA_PREDICTIONS=getMsaPeridictions(ALL_MSA_CUT)\n",
    "    ALL_MSA_PREDICTIONS_DIC = msaPredictions2Dic(ALL_MSA_PREDICTIONS)\n",
    "    CYTO_MSA_PREDICTIONS_DIC = {KEY:VALUE \n",
    "                                for KEY,VALUE \n",
    "                                in ALL_MSA_PREDICTIONS_DIC.items() \n",
    "                                if KEY in CYTO_IDS}\n",
    "    PERI_MSA_PREDICTIONS_DIC = {KEY:VALUE \n",
    "                                for KEY,VALUE \n",
    "                                in ALL_MSA_PREDICTIONS_DIC.items() \n",
    "                                if KEY in PERI_IDS}\n",
    "    print(\"generate arrays\")\n",
    "    CYTO_MSA_PREDICTIONS_ARRAYS = msaPredictionsDic2Arrays(CYTO_MSA_PREDICTIONS_DIC)\n",
    "    PERI_MSA_PREDICTIONS_ARRAYS = msaPredictionsDic2Arrays(PERI_MSA_PREDICTIONS_DIC)\n",
    "    ALL_MSA_PREDICTIONS_ARRAYS=dict()\n",
    "    ALL_MSA_PREDICTIONS_ARRAYS[\"Cytoplasm\"]=CYTO_MSA_PREDICTIONS_ARRAYS\n",
    "    ALL_MSA_PREDICTIONS_ARRAYS[\"Periplasm\"]=PERI_MSA_PREDICTIONS_ARRAYS\n",
    "    return ALL_MSA_PREDICTIONS_ARRAYS\n",
    "\n",
    "def wilcoxonRanksumTest(arrays,pValue=5e-2,minDataSize=10):\n",
    "    groups = sorted(arrays.keys())\n",
    "    cytoplasm=groups[0]\n",
    "    periplasm=groups[1]\n",
    "    features = [feature for feature in arrays[groups[0]].keys() if feature!=\"sequence\"]\n",
    "    rows, cols = arrays[groups[0]][features[0]].shape\n",
    "    \n",
    "    wilcoxonResults=dict()\n",
    "    \n",
    "    for feature in features:\n",
    "        wilcoxonResults[feature]=list()\n",
    "        for i in range(cols):\n",
    "            cytoData=[value for value in arrays[cytoplasm][feature][:,i] if not np.isnan(value)]\n",
    "            periData=[value for value in arrays[periplasm][feature][:,i] if not np.isnan(value)]\n",
    "            if len(cytoData)<minDataSize or len(periData)<minDataSize:\n",
    "                wilcoxonResults[feature].append(float(\"nan\"))\n",
    "            else:\n",
    "                statistic, pValue_observed = stats.ranksums(cytoData,periData)\n",
    "                if pValue_observed > pValue:\n",
    "                    wilcoxonResults[feature].append(0)\n",
    "                else:\n",
    "                    wilcoxonResults[feature].append(statistic)\n",
    "    return wilcoxonResults\n",
    "                \n",
    "def writeWilcoxonResults(file,wilcoxonResults,cyto_id, peri_id):\n",
    "    f=open(file,\"a\")\n",
    "    f.write(\">{}|{}\\n\".format(cyto_id, peri_id))\n",
    "    for feature,sequence in wilcoxonResults.items():\n",
    "        sequenceString=\" \".join([str(elm) for elm in sequence])\n",
    "        f.write(\"{}\\t{}\\n\".format(feature,sequenceString))\n",
    "    f.close()"
   ]
  },
  {
   "cell_type": "code",
   "execution_count": null,
   "metadata": {},
   "outputs": [],
   "source": []
  },
  {
   "cell_type": "code",
   "execution_count": null,
   "metadata": {},
   "outputs": [],
   "source": []
  },
  {
   "cell_type": "code",
   "execution_count": null,
   "metadata": {},
   "outputs": [],
   "source": []
  },
  {
   "cell_type": "code",
   "execution_count": 1,
   "metadata": {},
   "outputs": [
    {
     "ename": "NameError",
     "evalue": "name 'pd' is not defined",
     "output_type": "error",
     "traceback": [
      "\u001b[0;31m---------------------------------------------------------------------------\u001b[0m",
      "\u001b[0;31mNameError\u001b[0m                                 Traceback (most recent call last)",
      "\u001b[0;32m<ipython-input-1-bd7bb453dcc0>\u001b[0m in \u001b[0;36m<module>\u001b[0;34m\u001b[0m\n\u001b[0;32m----> 1\u001b[0;31m \u001b[0mTWINS\u001b[0m \u001b[0;34m=\u001b[0m \u001b[0mpd\u001b[0m\u001b[0;34m.\u001b[0m\u001b[0mread_csv\u001b[0m\u001b[0;34m(\u001b[0m\u001b[0;34m\"twins_info.tab\"\u001b[0m\u001b[0;34m,\u001b[0m\u001b[0msep\u001b[0m\u001b[0;34m=\u001b[0m\u001b[0;34m\"\\t\"\u001b[0m\u001b[0;34m)\u001b[0m\u001b[0;34m\u001b[0m\u001b[0;34m\u001b[0m\u001b[0m\n\u001b[0m\u001b[1;32m      2\u001b[0m \u001b[0mTWINS\u001b[0m\u001b[0;34m\u001b[0m\u001b[0;34m\u001b[0m\u001b[0m\n",
      "\u001b[0;31mNameError\u001b[0m: name 'pd' is not defined"
     ]
    }
   ],
   "source": [
    "TWINS = pd.read_csv(\"twins_very_strict.tab\",sep=\"\\t\")\n",
    "TWINS"
   ]
  },
  {
   "cell_type": "code",
   "execution_count": null,
   "metadata": {},
   "outputs": [],
   "source": [
    "INPUT_DATA=list()\n",
    "for i,Series in tqdm(sorted(TWINS.iterrows(),reverse=False)):\n",
    "    INPUT_DATA.append((Series[\"Cytoplasm\"],Series[\"Periplasm\"],Series[\"SP_end\"]))\n",
    "INPUT_DATA"
   ]
  },
  {
   "cell_type": "code",
   "execution_count": 6,
   "metadata": {},
   "outputs": [
    {
     "name": "stdout",
     "output_type": "stream",
     "text": [
      "\n",
      "Compare Twins: A0A169XQ31 and A0A2I8WC74\n",
      "Retrieve Cytoplasmic homologues\n",
      "Retrieve Periplasmic homologues\n",
      "reduce Cytoplasmic redundance with cdhit\n",
      "reduce Periplasmic redundance with cdhit\n",
      "generate Cytoplasmic MSA with clustalo\n",
      "generate Periplasmic MSA with clustalo\n",
      "Allign cytoplasmic and periplasmic proteins to each other with clustalo\n",
      "Generate predictions\n",
      "generate arrays\n"
     ]
    }
   ],
   "source": [
    "I=0\n",
    "CYTO_ID, PERI_ID, SP_END =INPUT_DATA[I]\n",
    "ARRAYS = allignTwins(CYTO_ID, PERI_ID, SP_END)\n",
    "WILCOXON = wilcoxonRanksumTest(ARRAYS)\n",
    "WILCOXON_FILE=\"wilcoxon_results_{}_{}.txt\".format(CYTO_ID, PERI_ID)\n",
    "writeWilcoxonResults(WILCOXON_FILE, WILCOXON,CYTO_ID,PERI_ID)"
   ]
  },
  {
   "cell_type": "code",
   "execution_count": 21,
   "metadata": {},
   "outputs": [
    {
     "name": "stdout",
     "output_type": "stream",
     "text": [
      "\n",
      "Compare Twins: Q9ZGM4 and Q9WXB9\n",
      "Retrieve Cytoplasmic homologues\n",
      "Retrieve Periplasmic homologues\n",
      "reduce Cytoplasmic redundance with cdhit\n",
      "reduce Periplasmic redundance with cdhit\n",
      "generate Cytoplasmic MSA with clustalo\n",
      "generate Periplasmic MSA with clustalo\n",
      "Allign cytoplasmic and periplasmic proteins to each other with clustalo\n",
      "Generate predictions\n",
      "generate arrays\n"
     ]
    }
   ],
   "source": [
    "I=1\n",
    "CYTO_ID, PERI_ID, SP_END =INPUT_DATA[I]\n",
    "ARRAYS = allignTwins(CYTO_ID, PERI_ID, SP_END)\n",
    "WILCOXON = wilcoxonRanksumTest(ARRAYS)\n",
    "WILCOXON_FILE=\"wilcoxon_results_{}_{}.txt\".format(CYTO_ID, PERI_ID)\n",
    "writeWilcoxonResults(WILCOXON_FILE, WILCOXON,CYTO_ID,PERI_ID)"
   ]
  },
  {
   "cell_type": "code",
   "execution_count": 20,
   "metadata": {},
   "outputs": [
    {
     "name": "stdout",
     "output_type": "stream",
     "text": [
      "\n",
      "Compare Twins: P23869 and P0AFL3\n",
      "Retrieve Cytoplasmic homologues\n",
      "Retrieve Periplasmic homologues\n",
      "reduce Cytoplasmic redundance with cdhit\n",
      "reduce Periplasmic redundance with cdhit\n",
      "generate Cytoplasmic MSA with clustalo\n",
      "generate Periplasmic MSA with clustalo\n",
      "Allign cytoplasmic and periplasmic proteins to each other with clustalo\n",
      "Generate predictions\n",
      "generate arrays\n"
     ]
    }
   ],
   "source": [
    "I=2\n",
    "CYTO_ID, PERI_ID, SP_END =INPUT_DATA[I]\n",
    "ARRAYS = allignTwins(CYTO_ID, PERI_ID, SP_END)\n",
    "WILCOXON = wilcoxonRanksumTest(ARRAYS)\n",
    "WILCOXON_FILE=\"wilcoxon_results_{}_{}.txt\".format(CYTO_ID, PERI_ID)\n",
    "writeWilcoxonResults(WILCOXON_FILE, WILCOXON,CYTO_ID,PERI_ID)"
   ]
  },
  {
   "cell_type": "code",
   "execution_count": 11,
   "metadata": {},
   "outputs": [
    {
     "name": "stdout",
     "output_type": "stream",
     "text": [
      "\n",
      "Compare Twins: P12994 and P77368\n",
      "Retrieve Cytoplasmic homologues\n",
      "Retrieve Periplasmic homologues\n",
      "reduce Cytoplasmic redundance with cdhit\n",
      "reduce Periplasmic redundance with cdhit\n",
      "generate Cytoplasmic MSA with clustalo\n",
      "generate Periplasmic MSA with clustalo\n",
      "Allign cytoplasmic and periplasmic proteins to each other with clustalo\n",
      "Generate predictions\n"
     ]
    },
    {
     "ename": "FileNotFoundError",
     "evalue": "[Errno 2] No such file or directory: '1589534633.9599469.MSA.pred'",
     "output_type": "error",
     "traceback": [
      "\u001b[0;31m---------------------------------------------------------------------------\u001b[0m",
      "\u001b[0;31mFileNotFoundError\u001b[0m                         Traceback (most recent call last)",
      "\u001b[0;32m<ipython-input-11-52ad33c62262>\u001b[0m in \u001b[0;36m<module>\u001b[0;34m\u001b[0m\n\u001b[1;32m      1\u001b[0m \u001b[0mI\u001b[0m\u001b[0;34m=\u001b[0m\u001b[0;36m3\u001b[0m\u001b[0;34m\u001b[0m\u001b[0;34m\u001b[0m\u001b[0m\n\u001b[1;32m      2\u001b[0m \u001b[0mCYTO_ID\u001b[0m\u001b[0;34m,\u001b[0m \u001b[0mPERI_ID\u001b[0m\u001b[0;34m,\u001b[0m \u001b[0mSP_END\u001b[0m \u001b[0;34m=\u001b[0m\u001b[0mINPUT_DATA\u001b[0m\u001b[0;34m[\u001b[0m\u001b[0mI\u001b[0m\u001b[0;34m]\u001b[0m\u001b[0;34m\u001b[0m\u001b[0;34m\u001b[0m\u001b[0m\n\u001b[0;32m----> 3\u001b[0;31m \u001b[0mARRAYS\u001b[0m \u001b[0;34m=\u001b[0m \u001b[0mallignTwins\u001b[0m\u001b[0;34m(\u001b[0m\u001b[0mCYTO_ID\u001b[0m\u001b[0;34m,\u001b[0m \u001b[0mPERI_ID\u001b[0m\u001b[0;34m,\u001b[0m \u001b[0mSP_END\u001b[0m\u001b[0;34m)\u001b[0m\u001b[0;34m\u001b[0m\u001b[0;34m\u001b[0m\u001b[0m\n\u001b[0m\u001b[1;32m      4\u001b[0m \u001b[0mWILCOXON\u001b[0m \u001b[0;34m=\u001b[0m \u001b[0mwilcoxonRanksumTest\u001b[0m\u001b[0;34m(\u001b[0m\u001b[0mARRAYS\u001b[0m\u001b[0;34m)\u001b[0m\u001b[0;34m\u001b[0m\u001b[0;34m\u001b[0m\u001b[0m\n\u001b[1;32m      5\u001b[0m \u001b[0mWILCOXON_FILE\u001b[0m\u001b[0;34m=\u001b[0m\u001b[0;34m\"wilcoxon_results_{}_{}.txt\"\u001b[0m\u001b[0;34m.\u001b[0m\u001b[0mformat\u001b[0m\u001b[0;34m(\u001b[0m\u001b[0mCYTO_ID\u001b[0m\u001b[0;34m,\u001b[0m \u001b[0mPERI_ID\u001b[0m\u001b[0;34m)\u001b[0m\u001b[0;34m\u001b[0m\u001b[0;34m\u001b[0m\u001b[0m\n",
      "\u001b[0;32m<ipython-input-2-873230f26ee3>\u001b[0m in \u001b[0;36mallignTwins\u001b[0;34m(CYTO_ID, PERI_ID, SP_END)\u001b[0m\n\u001b[1;32m    206\u001b[0m     \u001b[0mALL_MSA_CUT\u001b[0m\u001b[0;34m=\u001b[0m\u001b[0mcutSpFromMsa\u001b[0m\u001b[0;34m(\u001b[0m\u001b[0mALL_MSA\u001b[0m\u001b[0;34m,\u001b[0m\u001b[0;36m0\u001b[0m\u001b[0;34m,\u001b[0m\u001b[0mPERI_ID\u001b[0m\u001b[0;34m)\u001b[0m\u001b[0;34m\u001b[0m\u001b[0;34m\u001b[0m\u001b[0m\n\u001b[1;32m    207\u001b[0m     \u001b[0mprint\u001b[0m\u001b[0;34m(\u001b[0m\u001b[0;34m\"Generate predictions\"\u001b[0m\u001b[0;34m)\u001b[0m\u001b[0;34m\u001b[0m\u001b[0;34m\u001b[0m\u001b[0m\n\u001b[0;32m--> 208\u001b[0;31m     \u001b[0mALL_MSA_PREDICTIONS\u001b[0m\u001b[0;34m=\u001b[0m\u001b[0mgetMsaPeridictions\u001b[0m\u001b[0;34m(\u001b[0m\u001b[0mALL_MSA_CUT\u001b[0m\u001b[0;34m)\u001b[0m\u001b[0;34m\u001b[0m\u001b[0;34m\u001b[0m\u001b[0m\n\u001b[0m\u001b[1;32m    209\u001b[0m     \u001b[0mALL_MSA_PREDICTIONS_DIC\u001b[0m \u001b[0;34m=\u001b[0m \u001b[0mmsaPredictions2Dic\u001b[0m\u001b[0;34m(\u001b[0m\u001b[0mALL_MSA_PREDICTIONS\u001b[0m\u001b[0;34m)\u001b[0m\u001b[0;34m\u001b[0m\u001b[0;34m\u001b[0m\u001b[0m\n\u001b[1;32m    210\u001b[0m     CYTO_MSA_PREDICTIONS_DIC = {KEY:VALUE \n",
      "\u001b[0;32m<ipython-input-2-873230f26ee3>\u001b[0m in \u001b[0;36mgetMsaPeridictions\u001b[0;34m(msaString)\u001b[0m\n\u001b[1;32m    133\u001b[0m     \u001b[0mcmd\u001b[0m\u001b[0;34m.\u001b[0m\u001b[0mcommunicate\u001b[0m\u001b[0;34m(\u001b[0m\u001b[0;34m)\u001b[0m\u001b[0;34m\u001b[0m\u001b[0;34m\u001b[0m\u001b[0m\n\u001b[1;32m    134\u001b[0m \u001b[0;34m\u001b[0m\u001b[0m\n\u001b[0;32m--> 135\u001b[0;31m     \u001b[0;32mwith\u001b[0m \u001b[0mopen\u001b[0m\u001b[0;34m(\u001b[0m\u001b[0mtempOutputFile\u001b[0m\u001b[0;34m)\u001b[0m \u001b[0;32mas\u001b[0m \u001b[0mf\u001b[0m\u001b[0;34m:\u001b[0m\u001b[0;34m\u001b[0m\u001b[0;34m\u001b[0m\u001b[0m\n\u001b[0m\u001b[1;32m    136\u001b[0m         \u001b[0mmsaPredictionString\u001b[0m\u001b[0;34m=\u001b[0m \u001b[0mf\u001b[0m\u001b[0;34m.\u001b[0m\u001b[0mread\u001b[0m\u001b[0;34m(\u001b[0m\u001b[0;34m)\u001b[0m\u001b[0;34m\u001b[0m\u001b[0;34m\u001b[0m\u001b[0m\n\u001b[1;32m    137\u001b[0m \u001b[0;34m\u001b[0m\u001b[0m\n",
      "\u001b[0;31mFileNotFoundError\u001b[0m: [Errno 2] No such file or directory: '1589534633.9599469.MSA.pred'"
     ]
    }
   ],
   "source": [
    "I=3\n",
    "CYTO_ID, PERI_ID, SP_END =INPUT_DATA[I]\n",
    "ARRAYS = allignTwins(CYTO_ID, PERI_ID, SP_END)\n",
    "WILCOXON = wilcoxonRanksumTest(ARRAYS)\n",
    "WILCOXON_FILE=\"wilcoxon_results_{}_{}.txt\".format(CYTO_ID, PERI_ID)\n",
    "writeWilcoxonResults(WILCOXON_FILE, WILCOXON,CYTO_ID,PERI_ID)"
   ]
  },
  {
   "cell_type": "code",
   "execution_count": 12,
   "metadata": {},
   "outputs": [
    {
     "name": "stdout",
     "output_type": "stream",
     "text": [
      "\n",
      "Compare Twins: P0A962 and P00805\n",
      "Retrieve Cytoplasmic homologues\n",
      "Retrieve Periplasmic homologues\n",
      "reduce Cytoplasmic redundance with cdhit\n",
      "reduce Periplasmic redundance with cdhit\n",
      "generate Cytoplasmic MSA with clustalo\n",
      "generate Periplasmic MSA with clustalo\n",
      "Allign cytoplasmic and periplasmic proteins to each other with clustalo\n",
      "Generate predictions\n"
     ]
    },
    {
     "ename": "FileNotFoundError",
     "evalue": "[Errno 2] No such file or directory: '1589534741.9817603.MSA.pred'",
     "output_type": "error",
     "traceback": [
      "\u001b[0;31m---------------------------------------------------------------------------\u001b[0m",
      "\u001b[0;31mFileNotFoundError\u001b[0m                         Traceback (most recent call last)",
      "\u001b[0;32m<ipython-input-12-f80c001d0977>\u001b[0m in \u001b[0;36m<module>\u001b[0;34m\u001b[0m\n\u001b[1;32m      1\u001b[0m \u001b[0mI\u001b[0m\u001b[0;34m=\u001b[0m\u001b[0;36m4\u001b[0m\u001b[0;34m\u001b[0m\u001b[0;34m\u001b[0m\u001b[0m\n\u001b[1;32m      2\u001b[0m \u001b[0mCYTO_ID\u001b[0m\u001b[0;34m,\u001b[0m \u001b[0mPERI_ID\u001b[0m\u001b[0;34m,\u001b[0m \u001b[0mSP_END\u001b[0m \u001b[0;34m=\u001b[0m\u001b[0mINPUT_DATA\u001b[0m\u001b[0;34m[\u001b[0m\u001b[0mI\u001b[0m\u001b[0;34m]\u001b[0m\u001b[0;34m\u001b[0m\u001b[0;34m\u001b[0m\u001b[0m\n\u001b[0;32m----> 3\u001b[0;31m \u001b[0mARRAYS\u001b[0m \u001b[0;34m=\u001b[0m \u001b[0mallignTwins\u001b[0m\u001b[0;34m(\u001b[0m\u001b[0mCYTO_ID\u001b[0m\u001b[0;34m,\u001b[0m \u001b[0mPERI_ID\u001b[0m\u001b[0;34m,\u001b[0m \u001b[0mSP_END\u001b[0m\u001b[0;34m)\u001b[0m\u001b[0;34m\u001b[0m\u001b[0;34m\u001b[0m\u001b[0m\n\u001b[0m\u001b[1;32m      4\u001b[0m \u001b[0mWILCOXON\u001b[0m \u001b[0;34m=\u001b[0m \u001b[0mwilcoxonRanksumTest\u001b[0m\u001b[0;34m(\u001b[0m\u001b[0mARRAYS\u001b[0m\u001b[0;34m)\u001b[0m\u001b[0;34m\u001b[0m\u001b[0;34m\u001b[0m\u001b[0m\n\u001b[1;32m      5\u001b[0m \u001b[0mWILCOXON_FILE\u001b[0m\u001b[0;34m=\u001b[0m\u001b[0;34m\"wilcoxon_results_{}_{}.txt\"\u001b[0m\u001b[0;34m.\u001b[0m\u001b[0mformat\u001b[0m\u001b[0;34m(\u001b[0m\u001b[0mCYTO_ID\u001b[0m\u001b[0;34m,\u001b[0m \u001b[0mPERI_ID\u001b[0m\u001b[0;34m)\u001b[0m\u001b[0;34m\u001b[0m\u001b[0;34m\u001b[0m\u001b[0m\n",
      "\u001b[0;32m<ipython-input-2-873230f26ee3>\u001b[0m in \u001b[0;36mallignTwins\u001b[0;34m(CYTO_ID, PERI_ID, SP_END)\u001b[0m\n\u001b[1;32m    206\u001b[0m     \u001b[0mALL_MSA_CUT\u001b[0m\u001b[0;34m=\u001b[0m\u001b[0mcutSpFromMsa\u001b[0m\u001b[0;34m(\u001b[0m\u001b[0mALL_MSA\u001b[0m\u001b[0;34m,\u001b[0m\u001b[0;36m0\u001b[0m\u001b[0;34m,\u001b[0m\u001b[0mPERI_ID\u001b[0m\u001b[0;34m)\u001b[0m\u001b[0;34m\u001b[0m\u001b[0;34m\u001b[0m\u001b[0m\n\u001b[1;32m    207\u001b[0m     \u001b[0mprint\u001b[0m\u001b[0;34m(\u001b[0m\u001b[0;34m\"Generate predictions\"\u001b[0m\u001b[0;34m)\u001b[0m\u001b[0;34m\u001b[0m\u001b[0;34m\u001b[0m\u001b[0m\n\u001b[0;32m--> 208\u001b[0;31m     \u001b[0mALL_MSA_PREDICTIONS\u001b[0m\u001b[0;34m=\u001b[0m\u001b[0mgetMsaPeridictions\u001b[0m\u001b[0;34m(\u001b[0m\u001b[0mALL_MSA_CUT\u001b[0m\u001b[0;34m)\u001b[0m\u001b[0;34m\u001b[0m\u001b[0;34m\u001b[0m\u001b[0m\n\u001b[0m\u001b[1;32m    209\u001b[0m     \u001b[0mALL_MSA_PREDICTIONS_DIC\u001b[0m \u001b[0;34m=\u001b[0m \u001b[0mmsaPredictions2Dic\u001b[0m\u001b[0;34m(\u001b[0m\u001b[0mALL_MSA_PREDICTIONS\u001b[0m\u001b[0;34m)\u001b[0m\u001b[0;34m\u001b[0m\u001b[0;34m\u001b[0m\u001b[0m\n\u001b[1;32m    210\u001b[0m     CYTO_MSA_PREDICTIONS_DIC = {KEY:VALUE \n",
      "\u001b[0;32m<ipython-input-2-873230f26ee3>\u001b[0m in \u001b[0;36mgetMsaPeridictions\u001b[0;34m(msaString)\u001b[0m\n\u001b[1;32m    133\u001b[0m     \u001b[0mcmd\u001b[0m\u001b[0;34m.\u001b[0m\u001b[0mcommunicate\u001b[0m\u001b[0;34m(\u001b[0m\u001b[0;34m)\u001b[0m\u001b[0;34m\u001b[0m\u001b[0;34m\u001b[0m\u001b[0m\n\u001b[1;32m    134\u001b[0m \u001b[0;34m\u001b[0m\u001b[0m\n\u001b[0;32m--> 135\u001b[0;31m     \u001b[0;32mwith\u001b[0m \u001b[0mopen\u001b[0m\u001b[0;34m(\u001b[0m\u001b[0mtempOutputFile\u001b[0m\u001b[0;34m)\u001b[0m \u001b[0;32mas\u001b[0m \u001b[0mf\u001b[0m\u001b[0;34m:\u001b[0m\u001b[0;34m\u001b[0m\u001b[0;34m\u001b[0m\u001b[0m\n\u001b[0m\u001b[1;32m    136\u001b[0m         \u001b[0mmsaPredictionString\u001b[0m\u001b[0;34m=\u001b[0m \u001b[0mf\u001b[0m\u001b[0;34m.\u001b[0m\u001b[0mread\u001b[0m\u001b[0;34m(\u001b[0m\u001b[0;34m)\u001b[0m\u001b[0;34m\u001b[0m\u001b[0;34m\u001b[0m\u001b[0m\n\u001b[1;32m    137\u001b[0m \u001b[0;34m\u001b[0m\u001b[0m\n",
      "\u001b[0;31mFileNotFoundError\u001b[0m: [Errno 2] No such file or directory: '1589534741.9817603.MSA.pred'"
     ]
    }
   ],
   "source": [
    "I=4\n",
    "CYTO_ID, PERI_ID, SP_END =INPUT_DATA[I]\n",
    "ARRAYS = allignTwins(CYTO_ID, PERI_ID, SP_END)\n",
    "WILCOXON = wilcoxonRanksumTest(ARRAYS)\n",
    "WILCOXON_FILE=\"wilcoxon_results_{}_{}.txt\".format(CYTO_ID, PERI_ID)\n",
    "writeWilcoxonResults(WILCOXON_FILE, WILCOXON,CYTO_ID,PERI_ID)"
   ]
  },
  {
   "cell_type": "code",
   "execution_count": 9,
   "metadata": {},
   "outputs": [
    {
     "name": "stdout",
     "output_type": "stream",
     "text": [
      "\n",
      "Compare Twins: A0A1C3H8R2 and A0A2V4G4C5\n",
      "Retrieve Cytoplasmic homologues\n",
      "Retrieve Periplasmic homologues\n",
      "reduce Cytoplasmic redundance with cdhit\n",
      "reduce Periplasmic redundance with cdhit\n",
      "generate Cytoplasmic MSA with clustalo\n",
      "generate Periplasmic MSA with clustalo\n",
      "Allign cytoplasmic and periplasmic proteins to each other with clustalo\n",
      "Generate predictions\n",
      "generate arrays\n"
     ]
    }
   ],
   "source": [
    "I=5\n",
    "CYTO_ID, PERI_ID, SP_END =INPUT_DATA[I]\n",
    "ARRAYS = allignTwins(CYTO_ID, PERI_ID, SP_END)\n",
    "WILCOXON = wilcoxonRanksumTest(ARRAYS)\n",
    "WILCOXON_FILE=\"wilcoxon_results_{}_{}.txt\".format(CYTO_ID, PERI_ID)\n",
    "writeWilcoxonResults(WILCOXON_FILE, WILCOXON,CYTO_ID,PERI_ID)"
   ]
  },
  {
   "cell_type": "code",
   "execution_count": 14,
   "metadata": {},
   "outputs": [
    {
     "name": "stdout",
     "output_type": "stream",
     "text": [
      "\n",
      "Compare Twins: A0A3R0NUQ6 and P0AAL5\n",
      "Retrieve Cytoplasmic homologues\n",
      "Retrieve Periplasmic homologues\n",
      "reduce Cytoplasmic redundance with cdhit\n",
      "reduce Periplasmic redundance with cdhit\n",
      "generate Cytoplasmic MSA with clustalo\n",
      "generate Periplasmic MSA with clustalo\n",
      "Allign cytoplasmic and periplasmic proteins to each other with clustalo\n",
      "Generate predictions\n",
      "generate arrays\n"
     ]
    }
   ],
   "source": [
    "I=6\n",
    "CYTO_ID, PERI_ID, SP_END =INPUT_DATA[I]\n",
    "ARRAYS = allignTwins(CYTO_ID, PERI_ID, SP_END)\n",
    "WILCOXON = wilcoxonRanksumTest(ARRAYS)\n",
    "WILCOXON_FILE=\"wilcoxon_results_{}_{}.txt\".format(CYTO_ID, PERI_ID)\n",
    "writeWilcoxonResults(WILCOXON_FILE, WILCOXON,CYTO_ID,PERI_ID)"
   ]
  },
  {
   "cell_type": "code",
   "execution_count": 15,
   "metadata": {},
   "outputs": [
    {
     "name": "stdout",
     "output_type": "stream",
     "text": [
      "\n",
      "Compare Twins: A0A193QGU2 and Q2NVU4\n",
      "Retrieve Cytoplasmic homologues\n",
      "Retrieve Periplasmic homologues\n",
      "reduce Cytoplasmic redundance with cdhit\n",
      "reduce Periplasmic redundance with cdhit\n",
      "generate Cytoplasmic MSA with clustalo\n",
      "generate Periplasmic MSA with clustalo\n",
      "Allign cytoplasmic and periplasmic proteins to each other with clustalo\n",
      "Generate predictions\n",
      "generate arrays\n"
     ]
    }
   ],
   "source": [
    "I=7\n",
    "CYTO_ID, PERI_ID, SP_END =INPUT_DATA[I]\n",
    "ARRAYS = allignTwins(CYTO_ID, PERI_ID, SP_END)\n",
    "WILCOXON = wilcoxonRanksumTest(ARRAYS)\n",
    "WILCOXON_FILE=\"wilcoxon_results_{}_{}.txt\".format(CYTO_ID, PERI_ID)\n",
    "writeWilcoxonResults(WILCOXON_FILE, WILCOXON,CYTO_ID,PERI_ID)"
   ]
  },
  {
   "cell_type": "code",
   "execution_count": 16,
   "metadata": {},
   "outputs": [
    {
     "name": "stdout",
     "output_type": "stream",
     "text": [
      "\n",
      "Compare Twins: A0A4V0HDT9 and A0A4Q8ES36\n",
      "Retrieve Cytoplasmic homologues\n",
      "Retrieve Periplasmic homologues\n",
      "reduce Cytoplasmic redundance with cdhit\n",
      "reduce Periplasmic redundance with cdhit\n",
      "generate Cytoplasmic MSA with clustalo\n",
      "generate Periplasmic MSA with clustalo\n",
      "Allign cytoplasmic and periplasmic proteins to each other with clustalo\n",
      "Generate predictions\n",
      "generate arrays\n"
     ]
    }
   ],
   "source": [
    "I=8\n",
    "CYTO_ID, PERI_ID, SP_END =INPUT_DATA[I]\n",
    "ARRAYS = allignTwins(CYTO_ID, PERI_ID, SP_END)\n",
    "WILCOXON = wilcoxonRanksumTest(ARRAYS)\n",
    "WILCOXON_FILE=\"wilcoxon_results_{}_{}.txt\".format(CYTO_ID, PERI_ID)\n",
    "writeWilcoxonResults(WILCOXON_FILE, WILCOXON,CYTO_ID,PERI_ID)"
   ]
  },
  {
   "cell_type": "code",
   "execution_count": 17,
   "metadata": {},
   "outputs": [
    {
     "name": "stdout",
     "output_type": "stream",
     "text": [
      "\n",
      "Compare Twins: Q07YY9 and Q07WU7\n",
      "Retrieve Cytoplasmic homologues\n",
      "Retrieve Periplasmic homologues\n",
      "reduce Cytoplasmic redundance with cdhit\n",
      "reduce Periplasmic redundance with cdhit\n",
      "generate Cytoplasmic MSA with clustalo\n",
      "generate Periplasmic MSA with clustalo\n",
      "Allign cytoplasmic and periplasmic proteins to each other with clustalo\n",
      "Generate predictions\n",
      "generate arrays\n"
     ]
    }
   ],
   "source": [
    "I=9\n",
    "CYTO_ID, PERI_ID, SP_END =INPUT_DATA[I]\n",
    "ARRAYS = allignTwins(CYTO_ID, PERI_ID, SP_END)\n",
    "WILCOXON = wilcoxonRanksumTest(ARRAYS)\n",
    "WILCOXON_FILE=\"wilcoxon_results_{}_{}.txt\".format(CYTO_ID, PERI_ID)\n",
    "writeWilcoxonResults(WILCOXON_FILE, WILCOXON,CYTO_ID,PERI_ID)"
   ]
  },
  {
   "cell_type": "code",
   "execution_count": 18,
   "metadata": {},
   "outputs": [
    {
     "name": "stdout",
     "output_type": "stream",
     "text": [
      "\n",
      "Compare Twins: P0A9L3 and P45523\n",
      "Retrieve Cytoplasmic homologues\n",
      "Retrieve Periplasmic homologues\n",
      "reduce Cytoplasmic redundance with cdhit\n",
      "reduce Periplasmic redundance with cdhit\n",
      "generate Cytoplasmic MSA with clustalo\n",
      "generate Periplasmic MSA with clustalo\n",
      "Allign cytoplasmic and periplasmic proteins to each other with clustalo\n",
      "Generate predictions\n",
      "generate arrays\n"
     ]
    }
   ],
   "source": [
    "I=10\n",
    "CYTO_ID, PERI_ID, SP_END =INPUT_DATA[I]\n",
    "ARRAYS = allignTwins(CYTO_ID, PERI_ID, SP_END)\n",
    "WILCOXON = wilcoxonRanksumTest(ARRAYS)\n",
    "WILCOXON_FILE=\"wilcoxon_results_{}_{}.txt\".format(CYTO_ID, PERI_ID)\n",
    "writeWilcoxonResults(WILCOXON_FILE, WILCOXON,CYTO_ID,PERI_ID)"
   ]
  },
  {
   "cell_type": "code",
   "execution_count": 19,
   "metadata": {},
   "outputs": [
    {
     "name": "stdout",
     "output_type": "stream",
     "text": [
      "\n",
      "Compare Twins: P21517 and P25718\n",
      "Retrieve Cytoplasmic homologues\n",
      "Retrieve Periplasmic homologues\n",
      "reduce Cytoplasmic redundance with cdhit\n",
      "reduce Periplasmic redundance with cdhit\n",
      "generate Cytoplasmic MSA with clustalo\n",
      "generate Periplasmic MSA with clustalo\n",
      "Allign cytoplasmic and periplasmic proteins to each other with clustalo\n",
      "Generate predictions\n",
      "generate arrays\n"
     ]
    }
   ],
   "source": [
    "I=11\n",
    "CYTO_ID, PERI_ID, SP_END =INPUT_DATA[I]\n",
    "ARRAYS = allignTwins(CYTO_ID, PERI_ID, SP_END)\n",
    "WILCOXON = wilcoxonRanksumTest(ARRAYS)\n",
    "WILCOXON_FILE=\"wilcoxon_results_{}_{}.txt\".format(CYTO_ID, PERI_ID)\n",
    "writeWilcoxonResults(WILCOXON_FILE, WILCOXON,CYTO_ID,PERI_ID)"
   ]
  },
  {
   "cell_type": "code",
   "execution_count": 8,
   "metadata": {},
   "outputs": [
    {
     "name": "stdout",
     "output_type": "stream",
     "text": [
      "\n",
      "Compare Twins: Q7M8K1 and Q7M827\n",
      "Retrieve Cytoplasmic homologues\n",
      "Retrieve Periplasmic homologues\n",
      "reduce Cytoplasmic redundance with cdhit\n",
      "reduce Periplasmic redundance with cdhit\n",
      "generate Cytoplasmic MSA with clustalo\n",
      "generate Periplasmic MSA with clustalo\n",
      "Allign cytoplasmic and periplasmic proteins to each other with clustalo\n",
      "Generate predictions\n",
      "generate arrays\n"
     ]
    }
   ],
   "source": [
    "I=12\n",
    "CYTO_ID, PERI_ID, SP_END =INPUT_DATA[I]\n",
    "ARRAYS = allignTwins(CYTO_ID, PERI_ID, SP_END)\n",
    "WILCOXON = wilcoxonRanksumTest(ARRAYS)\n",
    "WILCOXON_FILE=\"wilcoxon_results_{}_{}.txt\".format(CYTO_ID, PERI_ID)\n",
    "writeWilcoxonResults(WILCOXON_FILE, WILCOXON,CYTO_ID,PERI_ID)"
   ]
  },
  {
   "cell_type": "code",
   "execution_count": null,
   "metadata": {},
   "outputs": [],
   "source": []
  },
  {
   "cell_type": "code",
   "execution_count": null,
   "metadata": {},
   "outputs": [],
   "source": []
  },
  {
   "cell_type": "code",
   "execution_count": null,
   "metadata": {},
   "outputs": [],
   "source": []
  }
 ],
 "metadata": {
  "kernelspec": {
   "display_name": "Python 3",
   "language": "python",
   "name": "python3"
  },
  "language_info": {
   "codemirror_mode": {
    "name": "ipython",
    "version": 3
   },
   "file_extension": ".py",
   "mimetype": "text/x-python",
   "name": "python",
   "nbconvert_exporter": "python",
   "pygments_lexer": "ipython3",
   "version": "3.6.9"
  }
 },
 "nbformat": 4,
 "nbformat_minor": 4
}
