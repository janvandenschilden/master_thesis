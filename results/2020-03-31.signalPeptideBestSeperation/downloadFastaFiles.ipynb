{
 "cells": [
  {
   "cell_type": "code",
   "execution_count": 1,
   "metadata": {
    "Collapsed": "false"
   },
   "outputs": [],
   "source": [
    "# import libraries\n",
    "import requests\n",
    "import pandas as pd\n",
    "from tqdm.auto import tqdm\n",
    "from time import sleep\n",
    "import os"
   ]
  },
  {
   "cell_type": "code",
   "execution_count": 2,
   "metadata": {
    "Collapsed": "false"
   },
   "outputs": [],
   "source": [
    "# Function to download from URL\n",
    "def download(url, fileName):\n",
    "    for i in range(10):\n",
    "        try:\n",
    "            # Delete existing files with filename\n",
    "            try:\n",
    "                os.remove(fileName) \n",
    "            except:\n",
    "                pass\n",
    "            \n",
    "            \"\"\" Use requests to download file. \n",
    "            Works with streams to be able large files without having the need of a \n",
    "            large memory.\n",
    "            \"\"\"\n",
    "            with requests.get(url, stream=True) as r:\n",
    "                r.raise_for_status()\n",
    "                with open(fileName, 'wb') as f:\n",
    "                    for chunk in r.iter_content(chunk_size=8192): \n",
    "                        if chunk:\n",
    "                            f.write(chunk)\n",
    "            return fileName\n",
    "        except:\n",
    "            w = 10*i\n",
    "            print(\"Download\", url,\"failed:\",i,\",wait for\",w,\"seconds\")\n",
    "            sleep(w)\n",
    "            \n",
    "def uniprotRetrieve(fileName, query=\"\",format=\"list\",columns=\"\",include=\"no\",compress=\"no\",limit=0,offset=0):\n",
    "    \"\"\"Downloads file from uniprot for given parameters\n",
    "    \n",
    "    If no parameters are given the function will download a list of all the \n",
    "    proteins ID's. More information about how the URL should be constructed can\n",
    "    be found on: \n",
    "    https://www.uniprot.org/help/api%5Fqueries\n",
    "    \n",
    "    Parameters\n",
    "    ----------\n",
    "    fileName : str\n",
    "        name for the downloaded file\n",
    "    query : str (Default='')\n",
    "        query that would be searched if as you used the webinterface on \n",
    "        https://www.uniprot.org/. If no query is provided, all protein entries\n",
    "        are selected. \n",
    "    format : str (Default='list')\n",
    "        File format you want to retrieve from uniprot. Available format are:\n",
    "        html | tab | xls | fasta | gff | txt | xml | rdf | list | rss\n",
    "    columns : str (Default='')\n",
    "        Column information you want to know for each entry in the query \n",
    "        when format tab or xls is selected.\n",
    "    include : str (Default='no')\n",
    "        Include isoform sequences when the format parameter is set to fasta.\n",
    "        Include description of referenced data when the format parameter is set to rdf.\n",
    "        This parameter is ignored for all other values of the format parameter.\n",
    "    compress : str (Default='no')\n",
    "        download file in gzipped compression format.\n",
    "    limit : int (Default=0)\n",
    "        Limit the amount of results that is given. 0 means you download all.\n",
    "    offset : int (Default=0)\n",
    "        When you limit the amount of results, offset determines where to start.\n",
    "        \n",
    "    Returns\n",
    "    -------\n",
    "    fileName : str\n",
    "        Name of the downloaeded file.\n",
    "    \"\"\"\n",
    "    def generateURL(baseURL, query=\"\",format=\"list\",columns=\"\",include=\"no\",compress=\"no\",limit=\"0\",offset=\"0\"):\n",
    "        \"\"\"Generate URL with given parameters\"\"\"\n",
    "        def glueParameters(**kwargs):\n",
    "            gluedParameters = \"\"\n",
    "            for parameter, value in kwargs.items():\n",
    "                gluedParameters+=parameter + \"=\" + str(value) + \"&\"\n",
    "            return gluedParameters.replace(\" \",\"+\")[:-1] #Last \"&\" is removed, spacec replaced by \"+\"\n",
    "        return baseURL + glueParameters(query=query,\n",
    "                                        format=format,\n",
    "                                        columns=columns,\n",
    "                                        include=include,\n",
    "                                        compress=compress,\n",
    "                                        limit=limit,\n",
    "                                        offset=offset)\n",
    "    URL = generateURL(\"https://www.uniprot.org/uniprot/?\",\n",
    "               query=query,\n",
    "               format=format,\n",
    "               columns=columns,\n",
    "               include=include,\n",
    "               compress=compress,\n",
    "               limit=limit,\n",
    "               offset=offset)\n",
    "    return download(URL, fileName)"
   ]
  },
  {
   "cell_type": "code",
   "execution_count": 3,
   "metadata": {
    "Collapsed": "false"
   },
   "outputs": [
    {
     "data": {
      "text/plain": [
       "array(['Shigella boydii', 'Yersinia pestis', 'Buchnera aphidicola', ...,\n",
       "       'Photorhabdus bodei', 'Klebsiella sp. OBRC7',\n",
       "       'Serratia sp. 16ANAIII'], dtype=object)"
      ]
     },
     "execution_count": 3,
     "metadata": {},
     "output_type": "execute_result"
    }
   ],
   "source": [
    "# Read in organism names\n",
    "organisms = pd.read_csv(\"../2020-03-30.getOrganisms/organisms.tab\",sep=\"\\t\",index_col=0)[\"Organism\"].unique()\n",
    "organisms"
   ]
  },
  {
   "cell_type": "code",
   "execution_count": null,
   "metadata": {
    "Collapsed": "false"
   },
   "outputs": [
    {
     "data": {
      "application/vnd.jupyter.widget-view+json": {
       "model_id": "8b033bd3bd214eb5a50c9995e3d29a17",
       "version_major": 2,
       "version_minor": 0
      },
      "text/plain": [
       "HBox(children=(IntProgress(value=0, max=3102), HTML(value='')))"
      ]
     },
     "metadata": {},
     "output_type": "display_data"
    }
   ],
   "source": [
    "SUCCES=\"succes.log\"\n",
    "FAILED=\"failed.log\"\n",
    "for FILE in [SUCCES,FAILED]:\n",
    "    with open(FILE,\"w\") as f:\n",
    "        f.write(FILE.replace(\".log\",\"\"))\n",
    "        f.write(\"\\n\\n\")\n",
    "\n",
    "sleepTime = 5\n",
    "for org in tqdm(organisms):   \n",
    "    try:\n",
    "        sleep(sleepTime)\n",
    "\n",
    "        fileNameBaseRaw=\"{0}\".format(org)\n",
    "        fileNameBase = fileNameBaseRaw.replace(\"/\",\"\").replace(\"(\",\"\").replace(\")\",\"\").replace(\" \",\"_\")\n",
    "\n",
    "        # Download protein of cytoplasm\n",
    "        QUERY='(goa:(cytoplasm) OR goa:(cytosol)) NOT annotation:(type:signal) AND organism:\"{0}\"'.format(org)\n",
    "        FORMAT='fasta'\n",
    "        FILENAME1= \"cytoplasm/{0}.{1}\".format(fileNameBase,FORMAT)\n",
    "        uniprotRetrieve(FILENAME1,query=QUERY,format=FORMAT)\n",
    "\n",
    "        sleep(sleepTime)\n",
    "\n",
    "        # Download protein of Periplasm\n",
    "        QUERY='annotation:(type:signal) goa:(\"periplasmic space\") AND organism:\"{0}\"'.format(org)\n",
    "        FORMAT='fasta'\n",
    "        FILENAME2= \"periplasm/{0}.{1}\".format(fileNameBase,FORMAT)\n",
    "        uniprotRetrieve(FILENAME2,query=QUERY,format=FORMAT)\n",
    "\n",
    "        # Log Succes\n",
    "        with open(SUCCES,\"a\") as f:\n",
    "            f.write(org)\n",
    "            f.write(\"\\n\")\n",
    "\n",
    "        # let it wait less long\n",
    "        sleepTime=max(5,sleepTime-1)\n",
    "    except:\n",
    "        # let it wait longer\n",
    "        sleepTime=min(60,sleepTime+5)\n",
    "\n",
    "        # Log Fail\n",
    "        with open(FAILED,\"a\") as f:\n",
    "            f.write(org)\n",
    "            f.write(\"\\n\")     "
   ]
  },
  {
   "cell_type": "code",
   "execution_count": null,
   "metadata": {
    "Collapsed": "false"
   },
   "outputs": [],
   "source": []
  }
 ],
 "metadata": {
  "kernelspec": {
   "display_name": "Python 3",
   "language": "python",
   "name": "python3"
  },
  "language_info": {
   "codemirror_mode": {
    "name": "ipython",
    "version": 3
   },
   "file_extension": ".py",
   "mimetype": "text/x-python",
   "name": "python",
   "nbconvert_exporter": "python",
   "pygments_lexer": "ipython3",
   "version": "3.7.4"
  }
 },
 "nbformat": 4,
 "nbformat_minor": 4
}
