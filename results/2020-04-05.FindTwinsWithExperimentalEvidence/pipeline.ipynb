{
 "cells": [
  {
   "cell_type": "code",
   "execution_count": 2,
   "metadata": {
    "Collapsed": "false"
   },
   "outputs": [],
   "source": [
    "# import \n",
    "import shutil\n",
    "import os\n",
    "import datetime\n",
    "\n",
    "# define general functions\n",
    "def makeDir(name):\n",
    "    try:\n",
    "        shutil.rmtree(name)\n",
    "    except:\n",
    "        pass\n",
    "    os.makedirs(name)\n",
    "    return name\n",
    "\n",
    "def makeBackup(name):\n",
    "    moment=str(datetime.datetime.now()).replace(\":\",\".\")\n",
    "    backup=name+\".bu.\"+moment\n",
    "    try:\n",
    "        shutil.copytree(name,backup)\n",
    "    except:\n",
    "        pass\n",
    "    return backup"
   ]
  },
  {
   "cell_type": "markdown",
   "metadata": {
    "Collapsed": "false"
   },
   "source": [
    "# 1 Download periplasmic and cytoplasmic proteins"
   ]
  },
  {
   "cell_type": "markdown",
   "metadata": {
    "Collapsed": "false"
   },
   "source": [
    "First we have to download all the periplasmic and cytoplasmic proteins from Uniprot that potentially have a twin."
   ]
  },
  {
   "cell_type": "code",
   "execution_count": 2,
   "metadata": {
    "Collapsed": "false"
   },
   "outputs": [],
   "source": [
    "# Import\n",
    "from uniprotRetrieve import uniprotRetrieve\n",
    "\n",
    "# Make dir for results\n",
    "DIR1=makeDir(\"1.downloadProteins\")\n",
    "\n",
    "# Download proteins Cytoplasm\n",
    "# Enterobacteriaceae\n",
    "# Enterobacterales\n",
    "# Gammaproteobacteria\n",
    "# Proteobacteria\n",
    "# Bacteria\n",
    "QUERY=\"taxonomy:Bacteria (locations:(location:cytoplasm evidence:experimental) OR locations:(location:cytosol evidence:experimental)) NOT annotation:(type:signal)\"\n",
    "FORMAT=\"tab\"\n",
    "COLUMNS=\"id,organism,ec,sequence\"\n",
    "FILENAME=\"proteinsCytoplasmic.tab\"\n",
    "OUTPUT=\"{0}/{1}\" .format(DIR1,FILENAME)\n",
    "uniprotRetrieve(OUTPUT, format=FORMAT, query=QUERY, columns=COLUMNS)\n",
    "\n",
    "# Download proteins Periplasm\n",
    "QUERY=\"taxonomy:Bacteria locations:(location:periplasm evidence:experimental) annotation:(type:signal)\"\n",
    "FORMAT=\"tab\"\n",
    "COLUMNS=\"id,organism,ec,sequence\"\n",
    "FILENAME=\"proteinsPeriplasmic.tab\"\n",
    "OUTPUT=\"{0}/{1}\" .format(DIR1,FILENAME)\n",
    "uniprotRetrieve(OUTPUT, format=FORMAT, query=QUERY, columns=COLUMNS)\n",
    "\n",
    "# Make backup\n",
    "BACKUP=makeBackup(DIR1)"
   ]
  },
  {
   "cell_type": "markdown",
   "metadata": {
    "Collapsed": "false"
   },
   "source": [
    "# 2 Extract common organisms and generate FASTA's"
   ]
  },
  {
   "cell_type": "markdown",
   "metadata": {
    "Collapsed": "false"
   },
   "source": [
    "We want to check for structural Twins (one in the periplasm and one in the cytoplasm) in the same organism.\n",
    "Therefore the script will look at all the avaible proteins and check for which organisms there are both cytoplasmic and periplasmic proteins available.\n",
    "Only for those, fasta files are generated."
   ]
  },
  {
   "cell_type": "code",
   "execution_count": 3,
   "metadata": {
    "Collapsed": "false"
   },
   "outputs": [
    {
     "data": {
      "application/vnd.jupyter.widget-view+json": {
       "model_id": "35fc4a02bf3f40d3a4f868d210fedc31",
       "version_major": 2,
       "version_minor": 0
      },
      "text/plain": [
       "HBox(children=(IntProgress(value=0, max=24), HTML(value='')))"
      ]
     },
     "metadata": {},
     "output_type": "display_data"
    },
    {
     "name": "stdout",
     "output_type": "stream",
     "text": [
      "\n"
     ]
    }
   ],
   "source": [
    "# Import\n",
    "import generateFastas\n",
    "\n",
    "# Generate dirs for resuts\n",
    "CYTODIR=makeDir(\"2.exctractCommonOrganismCytoplasm\")\n",
    "PERIDIR=makeDir(\"2.exctractCommonOrganismPeriplasm\")\n",
    "\n",
    "# Read in Tab files\n",
    "CYTOPLASM_PROTEINS_FILE=\"1.downloadProteins/proteinsCytoplasmic.tab\"\n",
    "PERIPLASM_PROTEINS_FILE=\"1.downloadProteins/proteinsPeriplasmic.tab\"\n",
    "\n",
    "# Generate Fasta files\n",
    "generateFastas.generateFastas(CYTOPLASM_PROTEINS_FILE, CYTODIR,\n",
    "                              PERIPLASM_PROTEINS_FILE, PERIDIR)\n",
    "\n",
    "#make backup\n",
    "CYTODIR_BACKUP=makeBackup(CYTODIR)\n",
    "PERIDIR_BACKUP=makeBackup(PERIDIR)"
   ]
  },
  {
   "cell_type": "markdown",
   "metadata": {
    "Collapsed": "false"
   },
   "source": [
    "# 3 Use Blast to search for Twins"
   ]
  },
  {
   "cell_type": "markdown",
   "metadata": {
    "Collapsed": "false"
   },
   "source": [
    "## 3.1 Generate Databases"
   ]
  },
  {
   "cell_type": "markdown",
   "metadata": {
    "Collapsed": "false"
   },
   "source": [
    "Blast searches for sequences against a database.\n",
    "Therefore, A script will turn the fasta files of periplasm proteins into databases."
   ]
  },
  {
   "cell_type": "code",
   "execution_count": 4,
   "metadata": {
    "Collapsed": "false"
   },
   "outputs": [
    {
     "data": {
      "application/vnd.jupyter.widget-view+json": {
       "model_id": "89af4c41a6cc4ce7a9f80ceb5586039a",
       "version_major": 2,
       "version_minor": 0
      },
      "text/plain": [
       "HBox(children=(IntProgress(value=0, max=24), HTML(value='')))"
      ]
     },
     "metadata": {},
     "output_type": "display_data"
    },
    {
     "name": "stdout",
     "output_type": "stream",
     "text": [
      "\n"
     ]
    }
   ],
   "source": [
    "# import\n",
    "import generateDatabases\n",
    "\n",
    "# Generate dir for resuts\n",
    "DIR_PERIPLASM_DATABASE=makeDir(\"3.1.periplasmDatabase\")\n",
    "\n",
    "# Make databases\n",
    "generateDatabases.generateDatabases(PERIDIR, DIR_PERIPLASM_DATABASE)\n",
    "\n",
    "#make backup\n",
    "DIR_PERIPLASM_DATABASE_BACKUP=makeBackup(DIR_PERIPLASM_DATABASE)"
   ]
  },
  {
   "cell_type": "markdown",
   "metadata": {
    "Collapsed": "false"
   },
   "source": [
    "## 3.2 Run Blast to find twins"
   ]
  },
  {
   "cell_type": "code",
   "execution_count": 5,
   "metadata": {
    "Collapsed": "false"
   },
   "outputs": [
    {
     "data": {
      "application/vnd.jupyter.widget-view+json": {
       "model_id": "0ba56c250a8d460a87df072f8fec148d",
       "version_major": 2,
       "version_minor": 0
      },
      "text/plain": [
       "HBox(children=(IntProgress(value=0, max=24), HTML(value='')))"
      ]
     },
     "metadata": {},
     "output_type": "display_data"
    },
    {
     "name": "stdout",
     "output_type": "stream",
     "text": [
      "\n"
     ]
    }
   ],
   "source": [
    "# import\n",
    "import runBlast\n",
    "\n",
    "# make dir for results\n",
    "DIR_BLAST_RESULTS=makeDir(\"3.2.blastResults\")\n",
    "\n",
    "# runBlast\n",
    "EVALUE=1e-8\n",
    "runBlast.runBlast(CYTODIR,DIR_PERIPLASM_DATABASE,DIR_BLAST_RESULTS,evalue=EVALUE)\n",
    "\n",
    "# make backup\n",
    "DIR_BLAST_RESULTS_BACKUP=makeBackup(DIR_BLAST_RESULTS)"
   ]
  },
  {
   "cell_type": "markdown",
   "metadata": {
    "Collapsed": "false"
   },
   "source": [
    "## 3.3 Extract Twins from Blast Results"
   ]
  },
  {
   "cell_type": "code",
   "execution_count": 6,
   "metadata": {
    "Collapsed": "false"
   },
   "outputs": [
    {
     "data": {
      "application/vnd.jupyter.widget-view+json": {
       "model_id": "a1d98e920a424519b0c59815228e4d88",
       "version_major": 2,
       "version_minor": 0
      },
      "text/plain": [
       "HBox(children=(IntProgress(value=0, max=3), HTML(value='')))"
      ]
     },
     "metadata": {},
     "output_type": "display_data"
    },
    {
     "name": "stdout",
     "output_type": "stream",
     "text": [
      "\n"
     ]
    }
   ],
   "source": [
    "# import\n",
    "import imp\n",
    "import getTwins\n",
    "imp.reload(getTwins)\n",
    "\n",
    "# make dir for results\n",
    "DIR_TWINS=makeDir(\"3.3.twins\")\n",
    "\n",
    "# getTwins\n",
    "getTwins.getTwins(DIR_BLAST_RESULTS, DIR_TWINS)\n",
    "\n",
    "# make backup\n",
    "DIR_TWINS_BACKUP=makeBackup(DIR_TWINS)"
   ]
  },
  {
   "cell_type": "markdown",
   "metadata": {
    "Collapsed": "false"
   },
   "source": [
    "# 4 Generate MSA (fast way)"
   ]
  },
  {
   "cell_type": "markdown",
   "metadata": {
    "Collapsed": "false"
   },
   "source": [
    "## 4.1 Generate lists"
   ]
  },
  {
   "cell_type": "markdown",
   "metadata": {
    "Collapsed": "false"
   },
   "source": [
    "Make sure to provide a maximum of entries per list as the mapping system can not handle lists that are to large."
   ]
  },
  {
   "cell_type": "code",
   "execution_count": 7,
   "metadata": {
    "Collapsed": "false"
   },
   "outputs": [
    {
     "data": {
      "application/vnd.jupyter.widget-view+json": {
       "model_id": "84299b33c05c47d396498eb0beb9787a",
       "version_major": 2,
       "version_minor": 0
      },
      "text/plain": [
       "HBox(children=(IntProgress(value=0, max=3), HTML(value='')))"
      ]
     },
     "metadata": {},
     "output_type": "display_data"
    },
    {
     "name": "stdout",
     "output_type": "stream",
     "text": [
      "\n"
     ]
    }
   ],
   "source": [
    "# import\n",
    "import generateLists4mapping\n",
    "\n",
    "# make dir for results\n",
    "DIR_LISTS=makeDir(\"4.1.listsToMap\")\n",
    "\n",
    "# generate lists to map\n",
    "MAX_ID_PER_FILE=1e3\n",
    "generateLists4mapping.generateLists4mapping(DIR_TWINS,DIR_LISTS,maxLength=MAX_ID_PER_FILE)\n",
    "\n",
    "# make backup\n",
    "DIR_LISTS_BACKUP=makeBackup(DIR_LISTS)"
   ]
  },
  {
   "cell_type": "markdown",
   "metadata": {
    "Collapsed": "false"
   },
   "source": [
    "## 4.2 Map proteins to UniRef groups"
   ]
  },
  {
   "cell_type": "markdown",
   "metadata": {
    "Collapsed": "false"
   },
   "source": [
    "To generate a MSA in a very fast way, we try to avoid BLAST.\n",
    "Therefore we use the predefined Uniref groups.\n",
    "This will result in a less extensive MSA, but it can be run for a lot of proteins."
   ]
  },
  {
   "cell_type": "code",
   "execution_count": 8,
   "metadata": {
    "Collapsed": "false"
   },
   "outputs": [
    {
     "data": {
      "application/vnd.jupyter.widget-view+json": {
       "model_id": "2add48354bc948ffb9ce9f753a02922b",
       "version_major": 2,
       "version_minor": 0
      },
      "text/plain": [
       "HBox(children=(IntProgress(value=0, max=2), HTML(value='')))"
      ]
     },
     "metadata": {},
     "output_type": "display_data"
    },
    {
     "name": "stdout",
     "output_type": "stream",
     "text": [
      "\n"
     ]
    }
   ],
   "source": [
    "# import\n",
    "import mapUniprot2Uniref\n",
    "\n",
    "# make dir for results\n",
    "DIR_MAP_UNIPROT_2_UNIREF=makeDir(\"4.2.mapUniprot2Uniref\")\n",
    "\n",
    "# Mapping\n",
    "mapUniprot2Uniref.mapUniprot2Uniref(DIR_LISTS, DIR_MAP_UNIPROT_2_UNIREF)\n",
    "\n",
    "# make backup\n",
    "DIR_MAP_UNIPROT_2_UNIREF_BACKUP=makeBackup(DIR_MAP_UNIPROT_2_UNIREF)"
   ]
  },
  {
   "cell_type": "markdown",
   "metadata": {
    "Collapsed": "false"
   },
   "source": [
    "## 4.3 Map Uniref groups back to the proteins they contain"
   ]
  },
  {
   "cell_type": "code",
   "execution_count": 9,
   "metadata": {
    "Collapsed": "false"
   },
   "outputs": [
    {
     "data": {
      "application/vnd.jupyter.widget-view+json": {
       "model_id": "644a47fe37b44d2ba5153a24d01de878",
       "version_major": 2,
       "version_minor": 0
      },
      "text/plain": [
       "HBox(children=(IntProgress(value=0, max=2), HTML(value='')))"
      ]
     },
     "metadata": {},
     "output_type": "display_data"
    },
    {
     "name": "stdout",
     "output_type": "stream",
     "text": [
      "\n"
     ]
    }
   ],
   "source": [
    "# import \n",
    "import mapUniref2Uniprot\n",
    "\n",
    "# make dir for resutls\n",
    "DIR_MAP_UNIREF_2_UNIPROT=makeDir(\"4.3.mapUniRef2UniProt\")\n",
    "\n",
    "# Mapping\n",
    "mapUniref2Uniprot.mapUniref2Uniprot(DIR_MAP_UNIPROT_2_UNIREF,DIR_MAP_UNIREF_2_UNIPROT)\n",
    "\n",
    "# make backup\n",
    "DIR_MAP_UNIREF_2_UNIPROT_BACKUP=makeBackup(DIR_MAP_UNIREF_2_UNIPROT)"
   ]
  },
  {
   "cell_type": "markdown",
   "metadata": {
    "Collapsed": "false"
   },
   "source": [
    "## 4.4 Filter proteins and download as tab with sequence in it"
   ]
  },
  {
   "cell_type": "markdown",
   "metadata": {
    "Collapsed": "false"
   },
   "source": [
    "We want to make sure there is evidence that periplasmic protein homologues occur in the periplasm and cytoplasmic in the cytoplasm.\n",
    "To achieve this, another uniprot retrieve search is performed using the yourlist:ID"
   ]
  },
  {
   "cell_type": "code",
   "execution_count": 10,
   "metadata": {
    "Collapsed": "false"
   },
   "outputs": [
    {
     "data": {
      "application/vnd.jupyter.widget-view+json": {
       "model_id": "dfaa9bf8cfef427f9dda0646608931ec",
       "version_major": 2,
       "version_minor": 0
      },
      "text/plain": [
       "HBox(children=(IntProgress(value=0, max=2), HTML(value='')))"
      ]
     },
     "metadata": {},
     "output_type": "display_data"
    },
    {
     "name": "stdout",
     "output_type": "stream",
     "text": [
      "\n"
     ]
    }
   ],
   "source": [
    "# import \n",
    "import filterAndDownload\n",
    "\n",
    "# make dir for resutls\n",
    "DIR_FILTERED=makeDir(\"4.4.filteredFiles\")\n",
    "\n",
    "# Filter and download\n",
    "func = filterAndDownload.filterAndDownload\n",
    "func(DIR_MAP_UNIREF_2_UNIPROT, DIR_FILTERED)\n",
    "\n",
    "# make backup\n",
    "DIR_FILTERED_BACKUP=makeBackup(DIR_FILTERED)"
   ]
  },
  {
   "cell_type": "markdown",
   "metadata": {
    "Collapsed": "false"
   },
   "source": [
    "## 4.5 Extract fasta files "
   ]
  },
  {
   "cell_type": "code",
   "execution_count": 11,
   "metadata": {
    "Collapsed": "false"
   },
   "outputs": [
    {
     "data": {
      "application/vnd.jupyter.widget-view+json": {
       "model_id": "644d8ea2953649dea0774c4020fed7c4",
       "version_major": 2,
       "version_minor": 0
      },
      "text/plain": [
       "HBox(children=(IntProgress(value=0, max=2), HTML(value='')))"
      ]
     },
     "metadata": {},
     "output_type": "display_data"
    },
    {
     "name": "stdout",
     "output_type": "stream",
     "text": [
      "\n"
     ]
    }
   ],
   "source": [
    "# import\n",
    "import extractFastas\n",
    "\n",
    "# make dir for results\n",
    "DIR_FASTAS=makeDir(\"4.5.fastas\")\n",
    "\n",
    "# extract fastas from tab\n",
    "fun=extractFastas.extractFastas\n",
    "fun(DIR_FILTERED,DIR_FASTAS,DIR_MAP_UNIPROT_2_UNIREF, DIR_MAP_UNIREF_2_UNIPROT)\n",
    "\n",
    "# make backup\n",
    "DIR_FASTAS_BACKUP=makeBackup(DIR_FASTAS)"
   ]
  },
  {
   "cell_type": "markdown",
   "metadata": {
    "Collapsed": "false"
   },
   "source": [
    "## 4.6 CDHIT"
   ]
  },
  {
   "cell_type": "code",
   "execution_count": 12,
   "metadata": {
    "Collapsed": "false"
   },
   "outputs": [
    {
     "data": {
      "application/vnd.jupyter.widget-view+json": {
       "model_id": "4c147a1181584c4f982c861e74513513",
       "version_major": 2,
       "version_minor": 0
      },
      "text/plain": [
       "HBox(children=(IntProgress(value=0, max=6), HTML(value='')))"
      ]
     },
     "metadata": {},
     "output_type": "display_data"
    },
    {
     "name": "stdout",
     "output_type": "stream",
     "text": [
      "\n"
     ]
    }
   ],
   "source": [
    "# import\n",
    "import runCDHIT\n",
    "\n",
    "# make dir for results\n",
    "DIR_CDHIT=makeDir(\"4.6.CDHIT\")\n",
    "\n",
    "# Run CDHIT\n",
    "func=runCDHIT.runCDHIT\n",
    "IDENTITY=0.90\n",
    "func(DIR_FASTAS,DIR_CDHIT,identity=IDENTITY)\n",
    "\n",
    "# make Backup\n",
    "DIR_CDHIT_BACKUP = makeBackup(DIR_CDHIT)"
   ]
  },
  {
   "cell_type": "markdown",
   "metadata": {},
   "source": [
    "### 4.6.1 Add self Sequence to CDHIT"
   ]
  },
  {
   "cell_type": "code",
   "execution_count": 1,
   "metadata": {},
   "outputs": [
    {
     "name": "stderr",
     "output_type": "stream",
     "text": [
      "100%|██████████| 6/6 [00:03<00:00,  1.75it/s]\n"
     ]
    }
   ],
   "source": [
    "from uniprotRetrieve import uniprotRetrieve\n",
    "import os\n",
    "from tqdm import tqdm\n",
    "\n",
    "def addSelfSequence(file):\n",
    "    Id = file.split(\"/\")[-1].split(\".\")[0]\n",
    "\n",
    "    query=\"id:{}\".format(Id)\n",
    "    format=\"tab\"\n",
    "    columns=\"id,sequence\"\n",
    "    tmp=\"4.6.CDHIT/tmp.csv\"\n",
    "    \n",
    "    # retrieve sequence and write temp file\n",
    "    uniprotRetrieve(tmp,format=format, query=query, columns=columns)\n",
    "    with open(tmp) as f:\n",
    "        f.readline()\n",
    "        Id,seq = f.readline().strip().split(\"\\t\")\n",
    "    \n",
    "    # Add to fasta\n",
    "    ## Add existing content\n",
    "    with open(file) as f:\n",
    "        lines = f.readlines()\n",
    "    ## Combine\n",
    "    with open(file,\"w\") as f:\n",
    "        f.write(\">{}\\n\".format(Id))\n",
    "        f.write(\"{}\\n\".format(seq))\n",
    "        f.writelines(lines)\n",
    "    \n",
    "    # remove tempoerary file\n",
    "    os.remove(tmp)\n",
    "\n",
    "DIR = \"4.6.CDHIT\"\n",
    "for FILE in tqdm([F for F in os.listdir(DIR) if F.endswith(\".fasta\")]):\n",
    "    FILE_PATH=\"{}/{}\".format(DIR,FILE)\n",
    "    addSelfSequence(FILE_PATH)"
   ]
  },
  {
   "cell_type": "markdown",
   "metadata": {
    "Collapsed": "false"
   },
   "source": [
    "## 4.7 ClustalOmega"
   ]
  },
  {
   "cell_type": "code",
   "execution_count": 3,
   "metadata": {
    "Collapsed": "false"
   },
   "outputs": [
    {
     "data": {
      "application/vnd.jupyter.widget-view+json": {
       "model_id": "14104e444b93432c84f3923442108b6d",
       "version_major": 2,
       "version_minor": 0
      },
      "text/plain": [
       "HBox(children=(FloatProgress(value=0.0, max=6.0), HTML(value='')))"
      ]
     },
     "metadata": {},
     "output_type": "display_data"
    },
    {
     "name": "stdout",
     "output_type": "stream",
     "text": [
      "\n"
     ]
    }
   ],
   "source": [
    "# import\n",
    "import runClustalOmega\n",
    "import imp\n",
    "imp.reload(runClustalOmega)\n",
    "\n",
    "DIR_CDHIT=\"4.6.CDHIT\"\n",
    "\n",
    "# make dir\n",
    "DIR_CLUSTALO=makeDir(\"4.7.clustalOmega\")\n",
    "\n",
    "# Run\n",
    "func=runClustalOmega.runClustalOmega\n",
    "func(DIR_CDHIT,DIR_CLUSTALO)\n",
    "\n",
    "# make Backup\n",
    "DIR_CLUSTALO_BACKUP = makeBackup(DIR_CLUSTALO)"
   ]
  },
  {
   "cell_type": "code",
   "execution_count": null,
   "metadata": {
    "Collapsed": "false"
   },
   "outputs": [],
   "source": []
  }
 ],
 "metadata": {
  "kernelspec": {
   "display_name": "Python 3",
   "language": "python",
   "name": "python3"
  },
  "language_info": {
   "codemirror_mode": {
    "name": "ipython",
    "version": 3
   },
   "file_extension": ".py",
   "mimetype": "text/x-python",
   "name": "python",
   "nbconvert_exporter": "python",
   "pygments_lexer": "ipython3",
   "version": "3.6.9"
  }
 },
 "nbformat": 4,
 "nbformat_minor": 4
}
