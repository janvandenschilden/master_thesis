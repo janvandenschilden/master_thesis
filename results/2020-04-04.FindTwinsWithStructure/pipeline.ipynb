{
 "cells": [
  {
   "cell_type": "code",
   "execution_count": 19,
   "metadata": {
    "Collapsed": "false"
   },
   "outputs": [],
   "source": [
    "# import \n",
    "import shutil\n",
    "import os\n",
    "import datetime\n",
    "\n",
    "# define general functions\n",
    "def makeDir(name):\n",
    "    try:\n",
    "        shutil.rmtree(name)\n",
    "    except:\n",
    "        pass\n",
    "    os.makedirs(name)\n",
    "    return name\n",
    "\n",
    "def makeBackup(name):\n",
    "    moment=str(datetime.datetime.now()).replace(\":\",\".\")\n",
    "    backup=name+\".bu.\"+moment\n",
    "    try:\n",
    "        shutil.copytree(name,backup)\n",
    "    except:\n",
    "        pass\n",
    "    return backup"
   ]
  },
  {
   "cell_type": "markdown",
   "metadata": {
    "Collapsed": "false"
   },
   "source": [
    "# 1 Download periplasmic and cytoplasmic proteins"
   ]
  },
  {
   "cell_type": "markdown",
   "metadata": {
    "Collapsed": "false"
   },
   "source": [
    "First we have to download all the periplasmic and cytoplasmic proteins from Uniprot that potentially have a twin."
   ]
  },
  {
   "cell_type": "markdown",
   "metadata": {
    "Collapsed": "false"
   },
   "source": [
    "## 1.1 Cytoplasmic proteins"
   ]
  },
  {
   "cell_type": "markdown",
   "metadata": {
    "Collapsed": "false"
   },
   "source": [
    "* taxonomy:Enterobacteriaceae\n",
    "    - Only for proteins from the family Enterobacteriaceae\n",
    "    - (around 7 million)\n",
    "* taxonomy:Enterobacteriaceae (locations:(location:cytoplasm) OR locations:(location:cytosol))\n",
    "    - Only proteins that are present in the cytoplasm\n",
    "    - no evidence level is specified, can be both from automatic and experimental methods\n",
    "    - (around 500 000)\n",
    "* taxonomy:Enterobacteriaceae (locations:(location:cytoplasm evidence:manual) OR locations:(location:cytosol evidence:manual))\n",
    "    - Only keeping proteins with manual evidence of location\n",
    "    - (around 14 000)\n",
    "* taxonomy:Enterobacteriaceae (locations:(location:cytoplasm evidence:manual) OR locations:(location:cytosol evidence:manual)) NOT annotation:(type:signal)\n",
    "    - Only keep those for which there is predicted to be no signal peptide\n",
    "    - (around 14 000)\n",
    "* taxonomy:Enterobacteriaceae database:(type:pdb) (locations:(location:cytoplasm evidence:manual) OR locations:(location:cytosol evidence:manual)) NOT annotation:(type:signal)\n",
    "    - proteins that have 3D structure available\n",
    "    - (396)"
   ]
  },
  {
   "cell_type": "markdown",
   "metadata": {
    "Collapsed": "false"
   },
   "source": [
    "With only 396 proteins distributed over multiple organisms, it seems very unlikely to find any Twins. Not even ppiB is in the list. Therefore it might be better to loosen the constraint to any evidence level of protein localization (also automatic ones)."
   ]
  },
  {
   "cell_type": "markdown",
   "metadata": {
    "Collapsed": "false"
   },
   "source": [
    "* taxonomy:Enterobacteriaceae database:(type:pdb) (locations:(location:cytoplasm) OR locations:(location:cytosol)) NOT annotation:(type:signal)\n",
    "    - Looser constraints for evidence on protein location\n",
    "    - (around 600)"
   ]
  },
  {
   "cell_type": "markdown",
   "metadata": {
    "Collapsed": "false"
   },
   "source": [
    "## 1.2 Periplasmic proteins"
   ]
  },
  {
   "cell_type": "markdown",
   "metadata": {
    "Collapsed": "false"
   },
   "source": [
    "* taxonomy:Enterobacteriaceae\n",
    "    - Only for proteins from the family Enterobacteriaceae\n",
    "    - (around 7 million)\n",
    "* taxonomy:Enterobacteriaceae locations:(location:periplasm)\n",
    "    - Only proteins that are present in the periplasm\n",
    "    - no evidence level is specified, can be both from automatic and experimental methods\n",
    "    - (around 55 000)\n",
    "* taxonomy:Enterobacteriaceae locations:(location:periplasm evidence:manual)\n",
    "    - Only keeping proteins with manual evidence of location\n",
    "    - (around 1 000)\n",
    "* taxonomy:Enterobacteriaceae locations:(location:periplasm evidence:manual) annotation:(type:signal)\n",
    "    - Only keeping those for which is also a signal peptide predicted to be present\n",
    "    - (around 1 000)\n",
    "* taxonomy:Enterobacteriaceae locations:(location:periplasm evidence:manual) annotation:(type:signal) database:(type:pdb)\n",
    "    - Proteins that have 3D structure\n",
    "    - (86)"
   ]
  },
  {
   "cell_type": "markdown",
   "metadata": {
    "Collapsed": "false"
   },
   "source": [
    "With only 86 proteins distributed over multiple organisms, it seems very unlikely to find any Twins. Not even ppiA is in the list. Therefore it might be better to loosen the constraint to any evidence level of protein localization (also automatic ones)."
   ]
  },
  {
   "cell_type": "markdown",
   "metadata": {
    "Collapsed": "false"
   },
   "source": [
    "* taxonomy:Enterobacteriaceae locations:(location:periplasm) annotation:(type:signal) database:(type:pdb)\n",
    "    - Looser constraints for evidence on protein location\n",
    "    - (around 150)"
   ]
  },
  {
   "cell_type": "code",
   "execution_count": 2,
   "metadata": {
    "Collapsed": "false"
   },
   "outputs": [],
   "source": [
    "# Import\n",
    "from uniprotRetrieve import uniprotRetrieve\n",
    "\n",
    "# Make dir for results\n",
    "DIR1=makeDir(\"1.downloadProteins\")\n",
    "\n",
    "# Download proteins Cytoplasm\n",
    "#QUERY=\"taxonomy:Enterobacteriaceae database:(type:pdb) (locations:(location:cytoplasm) OR locations:(location:cytosol)) NOT annotation:(type:signal)\"\n",
    "#QUERY=\"taxonomy:Enterobacterales database:(type:pdb) (locations:(location:cytoplasm) OR locations:(location:cytosol)) NOT annotation:(type:signal)\"\n",
    "#QUERY=\"taxonomy:Gammaproteobacteria database:(type:pdb) (locations:(location:cytoplasm) OR locations:(location:cytosol)) NOT annotation:(type:signal)\"\n",
    "#QUERY=\"taxonomy:Proteobacteria database:(type:pdb) (locations:(location:cytoplasm) OR locations:(location:cytosol)) NOT annotation:(type:signal)\"\n",
    "QUERY=\"taxonomy:Bacteria database:(type:pdb) (locations:(location:cytoplasm) OR locations:(location:cytosol)) NOT annotation:(type:signal)\"\n",
    "FORMAT=\"tab\"\n",
    "COLUMNS=\"id,organism,ec,sequence\"\n",
    "FILENAME=\"proteinsCytoplasmic.tab\"\n",
    "OUTPUT=\"{0}/{1}\" .format(DIR1,FILENAME)\n",
    "uniprotRetrieve(OUTPUT, format=FORMAT, query=QUERY, columns=COLUMNS)\n",
    "\n",
    "# Download proteins Periplasm\n",
    "#QUERY=\"taxonomy:Enterobacteriaceae locations:(location:periplasm) annotation:(type:signal) database:(type:pdb)\"\n",
    "#QUERY=\"taxonomy:Enterobacterales locations:(location:periplasm) annotation:(type:signal) database:(type:pdb)\"\n",
    "#QUERY=\"taxonomy:Gammaproteobacteria locations:(location:periplasm) annotation:(type:signal) database:(type:pdb)\"\n",
    "#QUERY=\"taxonomy:Proteobacteria locations:(location:periplasm) annotation:(type:signal) database:(type:pdb)\"\n",
    "QUERY=\"taxonomy:Bacteria locations:(location:periplasm) annotation:(type:signal) database:(type:pdb)\"\n",
    "FORMAT=\"tab\"\n",
    "COLUMNS=\"id,organism,ec,sequence\"\n",
    "FILENAME=\"proteinsPeriplasmic.tab\"\n",
    "OUTPUT=\"{0}/{1}\" .format(DIR1,FILENAME)\n",
    "uniprotRetrieve(OUTPUT, format=FORMAT, query=QUERY, columns=COLUMNS)\n",
    "\n",
    "# Make backup\n",
    "BACKUP=makeBackup(DIR1)"
   ]
  },
  {
   "cell_type": "markdown",
   "metadata": {
    "Collapsed": "false"
   },
   "source": [
    "# 2 Extract common organisms and generate FASTA's"
   ]
  },
  {
   "cell_type": "markdown",
   "metadata": {
    "Collapsed": "false"
   },
   "source": [
    "We want to check for structural Twins (one in the periplasm and one in the cytoplasm) in the same organism.\n",
    "Therefore the script will look at all the avaible proteins and check for which organisms there are both cytoplasmic and periplasmic proteins available.\n",
    "Only for those, fasta files are generated."
   ]
  },
  {
   "cell_type": "code",
   "execution_count": 3,
   "metadata": {
    "Collapsed": "false"
   },
   "outputs": [
    {
     "data": {
      "application/vnd.jupyter.widget-view+json": {
       "model_id": "5b9656fd685b4e5a82eabdaaf180a01f",
       "version_major": 2,
       "version_minor": 0
      },
      "text/plain": [
       "HBox(children=(IntProgress(value=0, max=78), HTML(value='')))"
      ]
     },
     "metadata": {},
     "output_type": "display_data"
    },
    {
     "name": "stdout",
     "output_type": "stream",
     "text": [
      "\n"
     ]
    }
   ],
   "source": [
    "# Import\n",
    "import generateFastas\n",
    "\n",
    "# Generate dirs for resuts\n",
    "CYTODIR=makeDir(\"2.exctractCommonOrganismCytoplasm\")\n",
    "PERIDIR=makeDir(\"2.exctractCommonOrganismPeriplasm\")\n",
    "\n",
    "# Read in Tab files\n",
    "CYTOPLASM_PROTEINS_FILE=\"1.downloadProteins/proteinsCytoplasmic.tab\"\n",
    "PERIPLASM_PROTEINS_FILE=\"1.downloadProteins/proteinsPeriplasmic.tab\"\n",
    "\n",
    "# Generate Fasta files\n",
    "generateFastas.generateFastas(CYTOPLASM_PROTEINS_FILE, CYTODIR,\n",
    "                              PERIPLASM_PROTEINS_FILE, PERIDIR)\n",
    "\n",
    "#make backup\n",
    "CYTODIR_BACKUP=makeBackup(CYTODIR)\n",
    "PERIDIR_BACKUP=makeBackup(PERIDIR)"
   ]
  },
  {
   "cell_type": "markdown",
   "metadata": {
    "Collapsed": "false"
   },
   "source": [
    "# 3 Use Blast to search for Twins"
   ]
  },
  {
   "cell_type": "markdown",
   "metadata": {
    "Collapsed": "false"
   },
   "source": [
    "## 3.1 Generate Databases"
   ]
  },
  {
   "cell_type": "markdown",
   "metadata": {
    "Collapsed": "false"
   },
   "source": [
    "Blast searches for sequences against a database.\n",
    "Therefore, A script will turn the fasta files of periplasm proteins into databases."
   ]
  },
  {
   "cell_type": "code",
   "execution_count": 4,
   "metadata": {
    "Collapsed": "false"
   },
   "outputs": [
    {
     "data": {
      "application/vnd.jupyter.widget-view+json": {
       "model_id": "0d923cf1a5ed46b38ac170084051172c",
       "version_major": 2,
       "version_minor": 0
      },
      "text/plain": [
       "HBox(children=(IntProgress(value=0, max=78), HTML(value='')))"
      ]
     },
     "metadata": {},
     "output_type": "display_data"
    },
    {
     "name": "stdout",
     "output_type": "stream",
     "text": [
      "\n"
     ]
    }
   ],
   "source": [
    "# import\n",
    "import generateDatabases\n",
    "\n",
    "# Generate dir for resuts\n",
    "DIR_PERIPLASM_DATABASE=makeDir(\"3.1.periplasmDatabase\")\n",
    "\n",
    "# Make databases\n",
    "generateDatabases.generateDatabases(PERIDIR, DIR_PERIPLASM_DATABASE)\n",
    "\n",
    "#make backup\n",
    "DIR_PERIPLASM_DATABASE_BACKUP=makeBackup(DIR_PERIPLASM_DATABASE)"
   ]
  },
  {
   "cell_type": "markdown",
   "metadata": {
    "Collapsed": "false"
   },
   "source": [
    "## 3.2 Run Blast to find twins"
   ]
  },
  {
   "cell_type": "code",
   "execution_count": 5,
   "metadata": {
    "Collapsed": "false"
   },
   "outputs": [
    {
     "data": {
      "application/vnd.jupyter.widget-view+json": {
       "model_id": "1e83c549fdb544fd9af9b26ea26df004",
       "version_major": 2,
       "version_minor": 0
      },
      "text/plain": [
       "HBox(children=(IntProgress(value=0, max=78), HTML(value='')))"
      ]
     },
     "metadata": {},
     "output_type": "display_data"
    },
    {
     "name": "stdout",
     "output_type": "stream",
     "text": [
      "\n"
     ]
    }
   ],
   "source": [
    "# import\n",
    "import runBlast\n",
    "\n",
    "# make dir for results\n",
    "DIR_BLAST_RESULTS=makeDir(\"3.2.blastResults\")\n",
    "\n",
    "# runBlast\n",
    "EVALUE=1e-8\n",
    "runBlast.runBlast(CYTODIR,DIR_PERIPLASM_DATABASE,DIR_BLAST_RESULTS,evalue=EVALUE)\n",
    "\n",
    "# make backup\n",
    "DIR_BLAST_RESULTS_BACKUP=makeBackup(DIR_BLAST_RESULTS)"
   ]
  },
  {
   "cell_type": "markdown",
   "metadata": {
    "Collapsed": "false"
   },
   "source": [
    "## 3.3 Extract Twins from Blast Results"
   ]
  },
  {
   "cell_type": "code",
   "execution_count": 6,
   "metadata": {
    "Collapsed": "false"
   },
   "outputs": [
    {
     "data": {
      "application/vnd.jupyter.widget-view+json": {
       "model_id": "f0086e6f8d22448fa217a454ec574a26",
       "version_major": 2,
       "version_minor": 0
      },
      "text/plain": [
       "HBox(children=(IntProgress(value=0, max=2), HTML(value='')))"
      ]
     },
     "metadata": {},
     "output_type": "display_data"
    },
    {
     "name": "stdout",
     "output_type": "stream",
     "text": [
      "\n"
     ]
    }
   ],
   "source": [
    "# import\n",
    "import imp\n",
    "import getTwins\n",
    "imp.reload(getTwins)\n",
    "\n",
    "# make dir for results\n",
    "DIR_TWINS=makeDir(\"3.3.twins\")\n",
    "\n",
    "# getTwins\n",
    "getTwins.getTwins(DIR_BLAST_RESULTS, DIR_TWINS)\n",
    "\n",
    "# make backup\n",
    "DIR_TWINS_BACKUP=makeBackup(DIR_TWINS)"
   ]
  },
  {
   "cell_type": "markdown",
   "metadata": {
    "Collapsed": "false"
   },
   "source": [
    "# 4 Generate MSA (fast way)"
   ]
  },
  {
   "cell_type": "markdown",
   "metadata": {
    "Collapsed": "false"
   },
   "source": [
    "## 4.1 Generate lists"
   ]
  },
  {
   "cell_type": "markdown",
   "metadata": {
    "Collapsed": "false"
   },
   "source": [
    "Make sure to provide a maximum of entries per list as the mapping system can not handle lists that are to large."
   ]
  },
  {
   "cell_type": "code",
   "execution_count": 7,
   "metadata": {
    "Collapsed": "false"
   },
   "outputs": [
    {
     "data": {
      "application/vnd.jupyter.widget-view+json": {
       "model_id": "62c629f451c4467c926196f033a341c3",
       "version_major": 2,
       "version_minor": 0
      },
      "text/plain": [
       "HBox(children=(IntProgress(value=0, max=2), HTML(value='')))"
      ]
     },
     "metadata": {},
     "output_type": "display_data"
    },
    {
     "name": "stdout",
     "output_type": "stream",
     "text": [
      "\n"
     ]
    }
   ],
   "source": [
    "# import\n",
    "import generateLists4mapping\n",
    "\n",
    "# make dir for results\n",
    "DIR_LISTS=makeDir(\"4.1.listsToMap\")\n",
    "\n",
    "# generate lists to map\n",
    "MAX_ID_PER_FILE=1e3\n",
    "generateLists4mapping.generateLists4mapping(DIR_TWINS,DIR_LISTS,maxLength=MAX_ID_PER_FILE)\n",
    "\n",
    "# make backup\n",
    "DIR_LISTS_BACKUP=makeBackup(DIR_LISTS)"
   ]
  },
  {
   "cell_type": "markdown",
   "metadata": {
    "Collapsed": "false"
   },
   "source": [
    "## 4.2 Map proteins to UniRef groups"
   ]
  },
  {
   "cell_type": "markdown",
   "metadata": {
    "Collapsed": "false"
   },
   "source": [
    "To generate a MSA in a very fast way, we try to avoid BLAST.\n",
    "Therefore we use the predefined Uniref groups.\n",
    "This will result in a less extensive MSA, but it can be run for a lot of proteins."
   ]
  },
  {
   "cell_type": "code",
   "execution_count": 8,
   "metadata": {
    "Collapsed": "false"
   },
   "outputs": [
    {
     "data": {
      "application/vnd.jupyter.widget-view+json": {
       "model_id": "0a8396545f5e4ef58de5ae7de853852c",
       "version_major": 2,
       "version_minor": 0
      },
      "text/plain": [
       "HBox(children=(IntProgress(value=0, max=2), HTML(value='')))"
      ]
     },
     "metadata": {},
     "output_type": "display_data"
    },
    {
     "name": "stdout",
     "output_type": "stream",
     "text": [
      "\n"
     ]
    }
   ],
   "source": [
    "# import\n",
    "import mapUniprot2Uniref\n",
    "\n",
    "# make dir for results\n",
    "DIR_MAP_UNIPROT_2_UNIREF=makeDir(\"4.2.mapUniprot2Uniref\")\n",
    "\n",
    "# Mapping\n",
    "mapUniprot2Uniref.mapUniprot2Uniref(DIR_LISTS, DIR_MAP_UNIPROT_2_UNIREF)\n",
    "\n",
    "# make backup\n",
    "DIR_MAP_UNIPROT_2_UNIREF_BACKUP=makeBackup(DIR_MAP_UNIPROT_2_UNIREF)"
   ]
  },
  {
   "cell_type": "markdown",
   "metadata": {
    "Collapsed": "false"
   },
   "source": [
    "## 4.3 Map Uniref groups back to the proteins they contain"
   ]
  },
  {
   "cell_type": "code",
   "execution_count": 9,
   "metadata": {
    "Collapsed": "false"
   },
   "outputs": [
    {
     "data": {
      "application/vnd.jupyter.widget-view+json": {
       "model_id": "96ce772de54546c1a24c03b644562faa",
       "version_major": 2,
       "version_minor": 0
      },
      "text/plain": [
       "HBox(children=(IntProgress(value=0, max=2), HTML(value='')))"
      ]
     },
     "metadata": {},
     "output_type": "display_data"
    },
    {
     "name": "stdout",
     "output_type": "stream",
     "text": [
      "\n"
     ]
    }
   ],
   "source": [
    "# import \n",
    "import mapUniref2Uniprot\n",
    "\n",
    "# make dir for resutls\n",
    "DIR_MAP_UNIREF_2_UNIPROT=makeDir(\"4.3.mapUniRef2UniProt\")\n",
    "\n",
    "# Mapping\n",
    "mapUniref2Uniprot.mapUniref2Uniprot(DIR_MAP_UNIPROT_2_UNIREF,DIR_MAP_UNIREF_2_UNIPROT)\n",
    "\n",
    "# make backup\n",
    "DIR_MAP_UNIREF_2_UNIPROT_BACKUP=makeBackup(DIR_MAP_UNIREF_2_UNIPROT)"
   ]
  },
  {
   "cell_type": "markdown",
   "metadata": {
    "Collapsed": "false"
   },
   "source": [
    "## 4.4 Filter proteins and download as tab with sequence in it"
   ]
  },
  {
   "cell_type": "markdown",
   "metadata": {
    "Collapsed": "false"
   },
   "source": [
    "We want to make sure there is evidence that periplasmic protein homologues occur in the periplasm and cytoplasmic in the cytoplasm.\n",
    "To achieve this, another uniprot retrieve search is performed using the yourlist:ID"
   ]
  },
  {
   "cell_type": "code",
   "execution_count": 10,
   "metadata": {
    "Collapsed": "false"
   },
   "outputs": [
    {
     "data": {
      "application/vnd.jupyter.widget-view+json": {
       "model_id": "c4e4940bf0864e51912f7b185b1279c3",
       "version_major": 2,
       "version_minor": 0
      },
      "text/plain": [
       "HBox(children=(IntProgress(value=0, max=2), HTML(value='')))"
      ]
     },
     "metadata": {},
     "output_type": "display_data"
    },
    {
     "name": "stdout",
     "output_type": "stream",
     "text": [
      "\n"
     ]
    }
   ],
   "source": [
    "# import \n",
    "import filterAndDownload\n",
    "\n",
    "# make dir for resutls\n",
    "DIR_FILTERED=makeDir(\"4.4.filteredFiles\")\n",
    "\n",
    "# Filter and download\n",
    "func = filterAndDownload.filterAndDownload\n",
    "func(DIR_MAP_UNIREF_2_UNIPROT, DIR_FILTERED)\n",
    "\n",
    "# make backup\n",
    "DIR_FILTERED_BACKUP=makeBackup(DIR_FILTERED)"
   ]
  },
  {
   "cell_type": "markdown",
   "metadata": {
    "Collapsed": "false"
   },
   "source": [
    "## 4.5 Extract fasta files "
   ]
  },
  {
   "cell_type": "code",
   "execution_count": 11,
   "metadata": {
    "Collapsed": "false"
   },
   "outputs": [
    {
     "data": {
      "application/vnd.jupyter.widget-view+json": {
       "model_id": "4f6f3b54bbee4aaa94c66f4adf39a4fe",
       "version_major": 2,
       "version_minor": 0
      },
      "text/plain": [
       "HBox(children=(IntProgress(value=0, max=2), HTML(value='')))"
      ]
     },
     "metadata": {},
     "output_type": "display_data"
    },
    {
     "name": "stdout",
     "output_type": "stream",
     "text": [
      "\n"
     ]
    }
   ],
   "source": [
    "# import\n",
    "import extractFastas\n",
    "\n",
    "# make dir for results\n",
    "DIR_FASTAS=makeDir(\"4.5.fastas\")\n",
    "\n",
    "# extract fastas from tab\n",
    "fun=extractFastas.extractFastas\n",
    "fun(DIR_FILTERED,DIR_FASTAS,DIR_MAP_UNIPROT_2_UNIREF, DIR_MAP_UNIREF_2_UNIPROT)\n",
    "\n",
    "# make backup\n",
    "DIR_FASTAS_BACKUP=makeBackup(DIR_FASTAS)"
   ]
  },
  {
   "cell_type": "markdown",
   "metadata": {
    "Collapsed": "false"
   },
   "source": [
    "## 4.6 CDHIT"
   ]
  },
  {
   "cell_type": "code",
   "execution_count": 12,
   "metadata": {
    "Collapsed": "false"
   },
   "outputs": [
    {
     "data": {
      "application/vnd.jupyter.widget-view+json": {
       "model_id": "4c518fe9f91b40d98c54dada4de44edf",
       "version_major": 2,
       "version_minor": 0
      },
      "text/plain": [
       "HBox(children=(IntProgress(value=0, max=12), HTML(value='')))"
      ]
     },
     "metadata": {},
     "output_type": "display_data"
    },
    {
     "name": "stdout",
     "output_type": "stream",
     "text": [
      "\n"
     ]
    }
   ],
   "source": [
    "# import\n",
    "import runCDHIT\n",
    "\n",
    "# make dir for results\n",
    "DIR_CDHIT=makeDir(\"4.6.CDHIT\")\n",
    "\n",
    "# Run CDHIT\n",
    "func=runCDHIT.runCDHIT\n",
    "IDENTITY=0.90\n",
    "func(DIR_FASTAS,DIR_CDHIT,identity=IDENTITY)\n",
    "\n",
    "# make Backup\n",
    "DIR_CDHIT_BACKUP = makeBackup(DIR_CDHIT)"
   ]
  },
  {
   "cell_type": "markdown",
   "metadata": {},
   "source": [
    "### 4.6.1 Add self Sequence to CDHIT"
   ]
  },
  {
   "cell_type": "code",
   "execution_count": 17,
   "metadata": {},
   "outputs": [
    {
     "data": {
      "application/vnd.jupyter.widget-view+json": {
       "model_id": "cc09f836d25f4773aa5f0b3bf77e984f",
       "version_major": 2,
       "version_minor": 0
      },
      "text/plain": [
       "HBox(children=(FloatProgress(value=0.0, max=12.0), HTML(value='')))"
      ]
     },
     "metadata": {},
     "output_type": "display_data"
    },
    {
     "name": "stdout",
     "output_type": "stream",
     "text": [
      "\n"
     ]
    }
   ],
   "source": [
    "from uniprotRetrieve import uniprotRetrieve\n",
    "import os\n",
    "from tqdm import tqdm\n",
    "\n",
    "def addSelfSequence(file):\n",
    "    Id = file.split(\"/\")[-1].split(\".\")[0]\n",
    "\n",
    "    query=\"id:{}\".format(Id)\n",
    "    format=\"tab\"\n",
    "    columns=\"id,sequence\"\n",
    "    tmp=\"4.6.CDHIT/tmp.csv\"\n",
    "    \n",
    "    # retrieve sequence and write temp file\n",
    "    uniprotRetrieve(tmp,format=format, query=query, columns=columns)\n",
    "    with open(tmp) as f:\n",
    "        f.readline()\n",
    "        Id,seq = f.readline().strip().split(\"\\t\")\n",
    "    \n",
    "    # Add to fasta\n",
    "    ## Add existing content\n",
    "    with open(file) as f:\n",
    "        lines = f.readlines()\n",
    "    ## Combine\n",
    "    with open(file,\"w\") as f:\n",
    "        f.write(\">{}\\n\".format(Id))\n",
    "        f.write(\"{}\\n\".format(seq))\n",
    "        f.writelines(lines)\n",
    "    \n",
    "    # remove tempoerary file\n",
    "    os.remove(tmp)\n",
    "\n",
    "DIR = \"4.6.CDHIT\"\n",
    "for FILE in tqdm([F for F in os.listdir(DIR) if F.endswith(\".fasta\")]):\n",
    "    FILE_PATH=\"{}/{}\".format(DIR,FILE)\n",
    "    addSelfSequence(FILE_PATH)"
   ]
  },
  {
   "cell_type": "markdown",
   "metadata": {
    "Collapsed": "false"
   },
   "source": [
    "## 4.7 ClustalOmega"
   ]
  },
  {
   "cell_type": "code",
   "execution_count": 21,
   "metadata": {
    "Collapsed": "false"
   },
   "outputs": [
    {
     "data": {
      "application/vnd.jupyter.widget-view+json": {
       "model_id": "225d2995fd214a5e87841647f0982cf0",
       "version_major": 2,
       "version_minor": 0
      },
      "text/plain": [
       "HBox(children=(FloatProgress(value=0.0, max=12.0), HTML(value='')))"
      ]
     },
     "metadata": {},
     "output_type": "display_data"
    },
    {
     "name": "stdout",
     "output_type": "stream",
     "text": [
      "\n"
     ]
    }
   ],
   "source": [
    "# import\n",
    "import runClustalOmega\n",
    "import imp\n",
    "imp.reload(runClustalOmega)\n",
    "\n",
    "DIR_CDHIT=\"4.6.CDHIT\"\n",
    "\n",
    "# make dir\n",
    "DIR_CLUSTALO=makeDir(\"4.7.clustalOmega\")\n",
    "\n",
    "# Run\n",
    "func=runClustalOmega.runClustalOmega\n",
    "func(DIR_CDHIT,DIR_CLUSTALO)\n",
    "\n",
    "# make Backup\n",
    "DIR_CLUSTALO_BACKUP = makeBackup(DIR_CLUSTALO)"
   ]
  },
  {
   "cell_type": "code",
   "execution_count": null,
   "metadata": {
    "Collapsed": "false"
   },
   "outputs": [],
   "source": []
  }
 ],
 "metadata": {
  "kernelspec": {
   "display_name": "Python 3",
   "language": "python",
   "name": "python3"
  },
  "language_info": {
   "codemirror_mode": {
    "name": "ipython",
    "version": 3
   },
   "file_extension": ".py",
   "mimetype": "text/x-python",
   "name": "python",
   "nbconvert_exporter": "python",
   "pygments_lexer": "ipython3",
   "version": "3.6.9"
  }
 },
 "nbformat": 4,
 "nbformat_minor": 4
}
