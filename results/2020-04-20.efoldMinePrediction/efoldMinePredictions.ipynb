{
 "cells": [
  {
   "cell_type": "code",
   "execution_count": 1,
   "metadata": {},
   "outputs": [],
   "source": [
    "from b2bTools.singleSeq.EFoldMine.Predictor import EFoldMine\n",
    "import sys"
   ]
  },
  {
   "cell_type": "code",
   "execution_count": 2,
   "metadata": {},
   "outputs": [
    {
     "name": "stdout",
     "output_type": "stream",
     "text": [
      "Reading the early folding probabilistic model...\n"
     ]
    },
    {
     "name": "stderr",
     "output_type": "stream",
     "text": [
      "/home/jan/.local/lib/python2.7/site-packages/sklearn/base.py:253: UserWarning: Trying to unpickle estimator SVC from version pre-0.18 when using version 0.20.4. This might lead to breaking code or invalid results. Use at your own risk.\n",
      "  UserWarning)\n"
     ]
    },
    {
     "name": "stdout",
     "output_type": "stream",
     "text": [
      "Initializing dynamine... Done.\n"
     ]
    }
   ],
   "source": [
    "efm=EFoldMine()"
   ]
  },
  {
   "cell_type": "code",
   "execution_count": 8,
   "metadata": {},
   "outputs": [
    {
     "name": "stdout",
     "output_type": "stream",
     "text": [
      "Start predictions...\n",
      "Predicting id..."
     ]
    },
    {
     "data": {
      "text/plain": [
       "['sheet', 'earlyFolding', 'sidechain', 'backbone', 'helix', 'coil']"
      ]
     },
     "execution_count": 8,
     "metadata": {},
     "output_type": "execute_result"
    },
    {
     "name": "stdout",
     "output_type": "stream",
     "text": [
      "\n"
     ]
    }
   ],
   "source": [
    "efm.predictSeqs([(\"id\",\"AAACCAACACACAACACAACACACACA\")])\n",
    "efm.allPredictions[\"id\"].keys()"
   ]
  },
  {
   "cell_type": "code",
   "execution_count": 3,
   "metadata": {},
   "outputs": [
    {
     "name": "stdout",
     "output_type": "stream",
     "text": [
      "Help on instance of EFoldMine in module b2bTools.singleSeq.EFoldMine.Predictor:\n",
      "\n",
      "class EFoldMine(b2bTools.general.Io.B2bIo)\n",
      " |  # TODO: this has to be converted for only EFoldMine. Make sure to also provide 'category' output with right cutoff for EF/Non-EF\n",
      " |  # TODO: So enable keyword based input of dynaMine preds, if not available then run it internally\n",
      " |  \n",
      " |  Methods defined here:\n",
      " |  \n",
      " |  __init__(self)\n",
      " |  \n",
      " |  buildVectors(self, feats, window)\n",
      " |  \n",
      " |  discretePreds(self, v)\n",
      " |  \n",
      " |  getWindowFeats(self, data, featureNum, pos, w)\n",
      " |  \n",
      " |  predictSeqs(self, seqs, dynaMinePreds=None, includeDiscreteClass=False)\n",
      " |      :param seqs: List/tuple of (seqId,sequenceString) tuples\n",
      " |      :param dynaMinePreds: DynaMine predictions matching info in seqs\n",
      " |            in self.allPredictions[seqId][predictionType] = [(aminoAcidTypeString,predValue),...] format\n",
      " |      :keyword includeDiscreteClass: If set to True, prediction output will include a class prediction\n",
      " |               (1 for early folding, 0 for not early folding)\n",
      " |      :return: True if all sequences predicted, False if problems\n",
      " |      \n",
      " |      See self.allPredictions for the predictions themselves. Will include DynaMine values.\n",
      " |  \n",
      " |  ----------------------------------------------------------------------\n",
      " |  Data and other attributes defined here:\n",
      " |  \n",
      " |  discreteCutoff = 0.196\n",
      " |  \n",
      " |  pickleProbabilisticModelFile = '/home/jan/courses/memoire/results/2020...\n",
      " |  \n",
      " |  scriptName = 'b2bTools.singleSeq.EFoldMine'\n",
      " |  \n",
      " |  version = '2.0'\n",
      " |  \n",
      " |  ----------------------------------------------------------------------\n",
      " |  Methods inherited from b2bTools.general.Io.B2bIo:\n",
      " |  \n",
      " |  getJsonAllPredictions(self, identifier)\n",
      " |      Writes out all available predictions with identifier as base name into outputDir.\n",
      " |      :param identifier: Base name for the output files\n",
      " |      :return: JSON with full information for all predictions done in the subclass\n",
      " |  \n",
      " |  getPredFileHeader(self)\n",
      " |  \n",
      " |  getPredFileInfoText(self, predictionType)\n",
      " |  \n",
      " |  getPredFileReferences(self)\n",
      " |  \n",
      " |  predictFromFasta(self, fastaFile)\n",
      " |      Get predictions in relation to a FASTA file. Prediction type defined by subclass\n",
      " |      :param fastaFile: Path to a FASTA file\n",
      " |      :return: Predictions for a subclass (as stored in allPredictions)\n",
      " |  \n",
      " |  readFasta(self, fileName)\n",
      " |      Reads a FASTA file - from dynaMine.predictor.parsers import DynaMineFileParsers\n",
      " |      \n",
      " |      :param fileName: Path to the FASTA file\n",
      " |      :return: List of (seqId,sequenceString) tuples\n",
      " |  \n",
      " |  writeAllPredictions(self, identifier, outputDir='dynaMineResults')\n",
      " |      Writes out all available predictions with identifier as base name into outputDir.\n",
      " |      :param identifier: Base name for the output files\n",
      " |      :keyword outputDir: Default is dynaMineResults/, can be reset to wherever\n",
      " |      :return: None\n",
      " |  \n",
      " |  writePredictionFile(self, outFile, predictionType)\n",
      " |      Write out the predictions to the 'old' DynaMine format.\n",
      " |      Assumes that self.allPredictions is set by a subclass!\n",
      " |      :param outFile: Name of the output file\n",
      " |      :param predictionType: Prediction type (backbone, coil, earlyFolding, ...)\n",
      " |      :return: None\n",
      " |  \n",
      " |  ----------------------------------------------------------------------\n",
      " |  Data and other attributes inherited from b2bTools.general.Io.B2bIo:\n",
      " |  \n",
      " |  references = []\n",
      "\n"
     ]
    }
   ],
   "source": [
    "help(efm)"
   ]
  },
  {
   "cell_type": "markdown",
   "metadata": {},
   "source": [
    "### 1. Get all the sequences for input"
   ]
  },
  {
   "cell_type": "code",
   "execution_count": null,
   "metadata": {},
   "outputs": [],
   "source": [
    "FILE=\"../2020-04-04.FindTwinsWithStructure/4.7.clustalOmega/P00805.MSA.fasta\""
   ]
  },
  {
   "cell_type": "markdown",
   "metadata": {},
   "source": [
    "### 2. Do EFoldmine Predictions"
   ]
  },
  {
   "cell_type": "code",
   "execution_count": null,
   "metadata": {},
   "outputs": [],
   "source": [
    "sys.stdout = open('log', 'w')\n",
    "efm1 = EFoldMine()\n",
    "efm1.predictFromFasta(FILE)\n",
    "sys.stdout.close()\n",
    "efm1.getJsonAllPredictions('test')\n",
    "efm1.writeAllPredictions('test','output/dynaMineResults/')"
   ]
  },
  {
   "cell_type": "code",
   "execution_count": null,
   "metadata": {},
   "outputs": [],
   "source": [
    "import os\n",
    "from tqdm import tqdm\n",
    "import sys\n",
    "\n",
    "sys.stdout = open('log.txt', 'w')\n",
    "\n",
    "for DIR in tqdm([F for F in os.listdir(\"../\") if F.count(\"FindTwins\")>0]):\n",
    "    SET=DIR.split(\"FindTwins\")[1]\n",
    "    CDHIT_DIR=\"../{}/4.6.CDHIT\".format(DIR)\n",
    "    for FILE in tqdm([F for F in os.listdir(CDHIT_DIR) if F.endswith(\".fasta\")]):\n",
    "        ID=FILE.replace(\".fasta\",\"\")\n",
    "        FILE_PATH=\"{}/{}\".format(CDHIT_DIR,FILE)\n",
    "        EFM = EFoldMine()\n",
    "        EFM.predictFromFasta(FILE_PATH)\n",
    "        EFM.getJsonAllPredictions(ID)\n",
    "        OUTPUT=\"{}/{}/\".format(SET,ID)\n",
    "        EFM.writeAllPredictions(ID,OUTPUT)\n",
    "\n",
    "sys.stdout.close()"
   ]
  },
  {
   "cell_type": "code",
   "execution_count": null,
   "metadata": {},
   "outputs": [],
   "source": [
    "print \"test\""
   ]
  },
  {
   "cell_type": "code",
   "execution_count": null,
   "metadata": {},
   "outputs": [],
   "source": []
  }
 ],
 "metadata": {
  "kernelspec": {
   "display_name": "Python 2",
   "language": "python",
   "name": "python2"
  },
  "language_info": {
   "codemirror_mode": {
    "name": "ipython",
    "version": 2
   },
   "file_extension": ".py",
   "mimetype": "text/x-python",
   "name": "python",
   "nbconvert_exporter": "python",
   "pygments_lexer": "ipython2",
   "version": "2.7.17"
  }
 },
 "nbformat": 4,
 "nbformat_minor": 4
}
